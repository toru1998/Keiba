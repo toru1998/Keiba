{
 "cells": [
  {
   "cell_type": "markdown",
   "metadata": {},
   "source": [
    "# 1. モジュールインポート"
   ]
  },
  {
   "cell_type": "code",
   "execution_count": 1,
   "metadata": {},
   "outputs": [],
   "source": [
    "import pandas as pd\n",
    "import glob\n",
    "import os\n",
    "from tqdm.notebook import tqdm\n",
    "import lxml\n",
    "from modules.constants import LocalDirs\n",
    "from modules import preparing\n",
    "from modules import preprocessing\n",
    "from modules import training\n",
    "from modules import simulation\n",
    "from modules import policies\n",
    "%load_ext autoreload"
   ]
  },
  {
   "cell_type": "markdown",
   "metadata": {},
   "source": [
    "# 2. データ取得\n",
    "例として、2021年のレースデータを取得する場合を考える"
   ]
  },
  {
   "cell_type": "markdown",
   "metadata": {},
   "source": [
    "## 2.1. レースID取得"
   ]
  },
  {
   "cell_type": "code",
   "execution_count": 4,
   "metadata": {},
   "outputs": [
    {
     "name": "stdout",
     "output_type": "stream",
     "text": [
      "getting race date from 2021-01-01 to 2022-01-01\n"
     ]
    },
    {
     "data": {
      "application/vnd.jupyter.widget-view+json": {
       "model_id": "f580aa17ef7c4a86947c04a558ead441",
       "version_major": 2,
       "version_minor": 0
      },
      "text/plain": [
       "  0%|          | 0/12 [00:00<?, ?it/s]"
      ]
     },
     "metadata": {},
     "output_type": "display_data"
    },
    {
     "data": {
      "text/plain": [
       "106"
      ]
     },
     "execution_count": 4,
     "metadata": {},
     "output_type": "execute_result"
    }
   ],
   "source": [
    "#開催日取得。to_の月は含まないので注意。\n",
    "kaisai_date_2021 = preparing.scrape_kaisai_date(from_=\"2021-01-01\", to_=\"2022-01-01\")\n",
    "len(kaisai_date_2021)"
   ]
  },
  {
   "cell_type": "code",
   "execution_count": 5,
   "metadata": {},
   "outputs": [
    {
     "name": "stdout",
     "output_type": "stream",
     "text": [
      "getting race_id_list\n"
     ]
    },
    {
     "data": {
      "application/vnd.jupyter.widget-view+json": {
       "model_id": "ec0fcd6176ed444eba222a20414dd4d5",
       "version_major": 2,
       "version_minor": 0
      },
      "text/plain": [
       "  0%|          | 0/106 [00:00<?, ?it/s]"
      ]
     },
     "metadata": {},
     "output_type": "display_data"
    },
    {
     "name": "stdout",
     "output_type": "stream",
     "text": [
      "scraping: https://race.netkeiba.com/top/race_list.html?kaisai_date=20210105\n",
      "scraping: https://race.netkeiba.com/top/race_list.html?kaisai_date=20210109\n",
      "scraping: https://race.netkeiba.com/top/race_list.html?kaisai_date=20210110\n",
      "scraping: https://race.netkeiba.com/top/race_list.html?kaisai_date=20210111\n",
      "scraping: https://race.netkeiba.com/top/race_list.html?kaisai_date=20210116\n",
      "scraping: https://race.netkeiba.com/top/race_list.html?kaisai_date=20210117\n",
      "scraping: https://race.netkeiba.com/top/race_list.html?kaisai_date=20210123\n",
      "scraping: https://race.netkeiba.com/top/race_list.html?kaisai_date=20210124\n",
      "scraping: https://race.netkeiba.com/top/race_list.html?kaisai_date=20210130\n",
      "scraping: https://race.netkeiba.com/top/race_list.html?kaisai_date=20210131\n",
      "scraping: https://race.netkeiba.com/top/race_list.html?kaisai_date=20210206\n",
      "scraping: https://race.netkeiba.com/top/race_list.html?kaisai_date=20210207\n",
      "scraping: https://race.netkeiba.com/top/race_list.html?kaisai_date=20210213\n",
      "scraping: https://race.netkeiba.com/top/race_list.html?kaisai_date=20210214\n",
      "scraping: https://race.netkeiba.com/top/race_list.html?kaisai_date=20210220\n",
      "scraping: https://race.netkeiba.com/top/race_list.html?kaisai_date=20210221\n",
      "scraping: https://race.netkeiba.com/top/race_list.html?kaisai_date=20210227\n",
      "scraping: https://race.netkeiba.com/top/race_list.html?kaisai_date=20210228\n",
      "scraping: https://race.netkeiba.com/top/race_list.html?kaisai_date=20210306\n",
      "scraping: https://race.netkeiba.com/top/race_list.html?kaisai_date=20210307\n",
      "scraping: https://race.netkeiba.com/top/race_list.html?kaisai_date=20210313\n",
      "scraping: https://race.netkeiba.com/top/race_list.html?kaisai_date=20210314\n",
      "scraping: https://race.netkeiba.com/top/race_list.html?kaisai_date=20210320\n",
      "scraping: https://race.netkeiba.com/top/race_list.html?kaisai_date=20210321\n",
      "scraping: https://race.netkeiba.com/top/race_list.html?kaisai_date=20210327\n",
      "scraping: https://race.netkeiba.com/top/race_list.html?kaisai_date=20210328\n",
      "scraping: https://race.netkeiba.com/top/race_list.html?kaisai_date=20210403\n",
      "scraping: https://race.netkeiba.com/top/race_list.html?kaisai_date=20210404\n",
      "scraping: https://race.netkeiba.com/top/race_list.html?kaisai_date=20210410\n",
      "scraping: https://race.netkeiba.com/top/race_list.html?kaisai_date=20210411\n",
      "scraping: https://race.netkeiba.com/top/race_list.html?kaisai_date=20210417\n",
      "scraping: https://race.netkeiba.com/top/race_list.html?kaisai_date=20210418\n",
      "scraping: https://race.netkeiba.com/top/race_list.html?kaisai_date=20210424\n",
      "scraping: https://race.netkeiba.com/top/race_list.html?kaisai_date=20210425\n",
      "scraping: https://race.netkeiba.com/top/race_list.html?kaisai_date=20210501\n",
      "scraping: https://race.netkeiba.com/top/race_list.html?kaisai_date=20210502\n",
      "scraping: https://race.netkeiba.com/top/race_list.html?kaisai_date=20210508\n",
      "scraping: https://race.netkeiba.com/top/race_list.html?kaisai_date=20210509\n",
      "scraping: https://race.netkeiba.com/top/race_list.html?kaisai_date=20210515\n",
      "scraping: https://race.netkeiba.com/top/race_list.html?kaisai_date=20210516\n",
      "scraping: https://race.netkeiba.com/top/race_list.html?kaisai_date=20210522\n",
      "scraping: https://race.netkeiba.com/top/race_list.html?kaisai_date=20210523\n",
      "scraping: https://race.netkeiba.com/top/race_list.html?kaisai_date=20210529\n",
      "scraping: https://race.netkeiba.com/top/race_list.html?kaisai_date=20210530\n",
      "scraping: https://race.netkeiba.com/top/race_list.html?kaisai_date=20210605\n",
      "scraping: https://race.netkeiba.com/top/race_list.html?kaisai_date=20210606\n",
      "scraping: https://race.netkeiba.com/top/race_list.html?kaisai_date=20210612\n",
      "scraping: https://race.netkeiba.com/top/race_list.html?kaisai_date=20210613\n",
      "scraping: https://race.netkeiba.com/top/race_list.html?kaisai_date=20210619\n",
      "scraping: https://race.netkeiba.com/top/race_list.html?kaisai_date=20210620\n",
      "scraping: https://race.netkeiba.com/top/race_list.html?kaisai_date=20210626\n",
      "scraping: https://race.netkeiba.com/top/race_list.html?kaisai_date=20210627\n",
      "scraping: https://race.netkeiba.com/top/race_list.html?kaisai_date=20210703\n",
      "scraping: https://race.netkeiba.com/top/race_list.html?kaisai_date=20210704\n",
      "scraping: https://race.netkeiba.com/top/race_list.html?kaisai_date=20210710\n",
      "scraping: https://race.netkeiba.com/top/race_list.html?kaisai_date=20210711\n",
      "scraping: https://race.netkeiba.com/top/race_list.html?kaisai_date=20210717\n",
      "scraping: https://race.netkeiba.com/top/race_list.html?kaisai_date=20210718\n",
      "scraping: https://race.netkeiba.com/top/race_list.html?kaisai_date=20210724\n",
      "scraping: https://race.netkeiba.com/top/race_list.html?kaisai_date=20210725\n",
      "scraping: https://race.netkeiba.com/top/race_list.html?kaisai_date=20210731\n",
      "scraping: https://race.netkeiba.com/top/race_list.html?kaisai_date=20210801\n",
      "scraping: https://race.netkeiba.com/top/race_list.html?kaisai_date=20210807\n",
      "scraping: https://race.netkeiba.com/top/race_list.html?kaisai_date=20210808\n",
      "scraping: https://race.netkeiba.com/top/race_list.html?kaisai_date=20210814\n",
      "scraping: https://race.netkeiba.com/top/race_list.html?kaisai_date=20210815\n",
      "scraping: https://race.netkeiba.com/top/race_list.html?kaisai_date=20210821\n",
      "scraping: https://race.netkeiba.com/top/race_list.html?kaisai_date=20210822\n",
      "scraping: https://race.netkeiba.com/top/race_list.html?kaisai_date=20210828\n",
      "scraping: https://race.netkeiba.com/top/race_list.html?kaisai_date=20210829\n",
      "scraping: https://race.netkeiba.com/top/race_list.html?kaisai_date=20210904\n",
      "scraping: https://race.netkeiba.com/top/race_list.html?kaisai_date=20210905\n",
      "scraping: https://race.netkeiba.com/top/race_list.html?kaisai_date=20210911\n",
      "scraping: https://race.netkeiba.com/top/race_list.html?kaisai_date=20210912\n",
      "scraping: https://race.netkeiba.com/top/race_list.html?kaisai_date=20210918\n",
      "scraping: https://race.netkeiba.com/top/race_list.html?kaisai_date=20210919\n",
      "scraping: https://race.netkeiba.com/top/race_list.html?kaisai_date=20210920\n",
      "scraping: https://race.netkeiba.com/top/race_list.html?kaisai_date=20210925\n",
      "scraping: https://race.netkeiba.com/top/race_list.html?kaisai_date=20210926\n",
      "scraping: https://race.netkeiba.com/top/race_list.html?kaisai_date=20211002\n",
      "scraping: https://race.netkeiba.com/top/race_list.html?kaisai_date=20211003\n",
      "scraping: https://race.netkeiba.com/top/race_list.html?kaisai_date=20211009\n",
      "scraping: https://race.netkeiba.com/top/race_list.html?kaisai_date=20211010\n",
      "scraping: https://race.netkeiba.com/top/race_list.html?kaisai_date=20211016\n",
      "scraping: https://race.netkeiba.com/top/race_list.html?kaisai_date=20211017\n",
      "scraping: https://race.netkeiba.com/top/race_list.html?kaisai_date=20211023\n",
      "scraping: https://race.netkeiba.com/top/race_list.html?kaisai_date=20211024\n",
      "scraping: https://race.netkeiba.com/top/race_list.html?kaisai_date=20211030\n",
      "scraping: https://race.netkeiba.com/top/race_list.html?kaisai_date=20211031\n",
      "scraping: https://race.netkeiba.com/top/race_list.html?kaisai_date=20211106\n",
      "scraping: https://race.netkeiba.com/top/race_list.html?kaisai_date=20211107\n",
      "scraping: https://race.netkeiba.com/top/race_list.html?kaisai_date=20211113\n",
      "scraping: https://race.netkeiba.com/top/race_list.html?kaisai_date=20211114\n",
      "scraping: https://race.netkeiba.com/top/race_list.html?kaisai_date=20211120\n",
      "scraping: https://race.netkeiba.com/top/race_list.html?kaisai_date=20211121\n",
      "scraping: https://race.netkeiba.com/top/race_list.html?kaisai_date=20211127\n",
      "scraping: https://race.netkeiba.com/top/race_list.html?kaisai_date=20211128\n",
      "scraping: https://race.netkeiba.com/top/race_list.html?kaisai_date=20211204\n",
      "scraping: https://race.netkeiba.com/top/race_list.html?kaisai_date=20211205\n",
      "scraping: https://race.netkeiba.com/top/race_list.html?kaisai_date=20211211\n",
      "scraping: https://race.netkeiba.com/top/race_list.html?kaisai_date=20211212\n",
      "scraping: https://race.netkeiba.com/top/race_list.html?kaisai_date=20211218\n",
      "scraping: https://race.netkeiba.com/top/race_list.html?kaisai_date=20211219\n",
      "scraping: https://race.netkeiba.com/top/race_list.html?kaisai_date=20211225\n",
      "scraping: https://race.netkeiba.com/top/race_list.html?kaisai_date=20211226\n",
      "scraping: https://race.netkeiba.com/top/race_list.html?kaisai_date=20211228\n"
     ]
    },
    {
     "data": {
      "text/plain": [
       "3456"
      ]
     },
     "execution_count": 5,
     "metadata": {},
     "output_type": "execute_result"
    }
   ],
   "source": [
    "# 開催日からレースIDの取得\n",
    "race_id_list = preparing.scrape_race_id_list(kaisai_date_2021)\n",
    "len(race_id_list)"
   ]
  },
  {
   "cell_type": "markdown",
   "metadata": {},
   "source": [
    "## 2.2. /race/ディレクトリのデータ取得"
   ]
  },
  {
   "cell_type": "code",
   "execution_count": 6,
   "metadata": {},
   "outputs": [
    {
     "data": {
      "application/vnd.jupyter.widget-view+json": {
       "model_id": "81dc1cbe011a4d04bc57f5fc23d98f3f",
       "version_major": 2,
       "version_minor": 0
      },
      "text/plain": [
       "  0%|          | 0/3456 [00:00<?, ?it/s]"
      ]
     },
     "metadata": {},
     "output_type": "display_data"
    },
    {
     "name": "stdout",
     "output_type": "stream",
     "text": [
      "race_id 202106010101 skipped\n",
      "race_id 202106010102 skipped\n",
      "race_id 202106010103 skipped\n",
      "race_id 202106010104 skipped\n",
      "race_id 202106010105 skipped\n",
      "race_id 202106010106 skipped\n",
      "race_id 202106010107 skipped\n",
      "race_id 202106010108 skipped\n",
      "race_id 202106010109 skipped\n",
      "race_id 202106010110 skipped\n",
      "race_id 202106010111 skipped\n",
      "race_id 202106010112 skipped\n",
      "race_id 202107010101 skipped\n",
      "race_id 202107010102 skipped\n",
      "race_id 202107010103 skipped\n",
      "race_id 202107010104 skipped\n",
      "race_id 202107010105 skipped\n",
      "race_id 202107010106 skipped\n",
      "race_id 202107010107 skipped\n",
      "race_id 202107010108 skipped\n",
      "race_id 202107010109 skipped\n",
      "race_id 202107010110 skipped\n",
      "race_id 202107010111 skipped\n",
      "race_id 202107010112 skipped\n",
      "race_id 202106010201 skipped\n",
      "race_id 202106010202 skipped\n",
      "race_id 202106010203 skipped\n",
      "race_id 202106010204 skipped\n",
      "race_id 202106010205 skipped\n",
      "race_id 202106010206 skipped\n",
      "race_id 202106010207 skipped\n",
      "race_id 202106010208 skipped\n",
      "race_id 202106010209 skipped\n",
      "race_id 202106010210 skipped\n",
      "race_id 202106010211 skipped\n",
      "race_id 202106010212 skipped\n",
      "race_id 202107010201 skipped\n",
      "race_id 202107010202 skipped\n",
      "race_id 202107010203 skipped\n",
      "race_id 202107010204 skipped\n",
      "race_id 202107010205 skipped\n",
      "race_id 202107010206 skipped\n",
      "race_id 202107010207 skipped\n",
      "race_id 202107010208 skipped\n",
      "race_id 202107010209 skipped\n",
      "race_id 202107010210 skipped\n",
      "race_id 202107010211 skipped\n",
      "race_id 202107010212 skipped\n",
      "race_id 202106010301 skipped\n",
      "race_id 202106010302 skipped\n",
      "race_id 202106010303 skipped\n",
      "race_id 202106010304 skipped\n",
      "race_id 202106010305 skipped\n",
      "race_id 202106010306 skipped\n",
      "race_id 202106010307 skipped\n",
      "race_id 202106010308 skipped\n",
      "race_id 202106010309 skipped\n",
      "race_id 202106010310 skipped\n",
      "race_id 202106010311 skipped\n",
      "race_id 202106010312 skipped\n",
      "race_id 202107010301 skipped\n",
      "race_id 202107010302 skipped\n",
      "race_id 202107010303 skipped\n",
      "race_id 202107010304 skipped\n",
      "race_id 202107010305 skipped\n",
      "race_id 202107010306 skipped\n",
      "race_id 202107010307 skipped\n",
      "race_id 202107010308 skipped\n",
      "race_id 202107010309 skipped\n",
      "race_id 202107010310 skipped\n",
      "race_id 202107010311 skipped\n",
      "race_id 202107010312 skipped\n",
      "race_id 202106010401 skipped\n",
      "race_id 202106010402 skipped\n",
      "race_id 202106010403 skipped\n",
      "race_id 202106010404 skipped\n",
      "race_id 202106010405 skipped\n",
      "race_id 202106010406 skipped\n",
      "race_id 202106010407 skipped\n",
      "race_id 202106010408 skipped\n",
      "race_id 202106010409 skipped\n",
      "race_id 202106010410 skipped\n",
      "race_id 202106010411 skipped\n",
      "race_id 202106010412 skipped\n",
      "race_id 202107010401 skipped\n",
      "race_id 202107010402 skipped\n",
      "race_id 202107010403 skipped\n",
      "race_id 202107010404 skipped\n",
      "race_id 202107010405 skipped\n",
      "race_id 202107010406 skipped\n",
      "race_id 202107010407 skipped\n",
      "race_id 202107010408 skipped\n",
      "race_id 202107010409 skipped\n",
      "race_id 202107010410 skipped\n",
      "race_id 202107010411 skipped\n",
      "race_id 202107010412 skipped\n",
      "race_id 202106010501 skipped\n",
      "race_id 202106010502 skipped\n",
      "race_id 202106010503 skipped\n",
      "race_id 202106010504 skipped\n",
      "race_id 202106010505 skipped\n",
      "race_id 202106010506 skipped\n",
      "race_id 202106010507 skipped\n",
      "race_id 202106010508 skipped\n",
      "race_id 202106010509 skipped\n",
      "race_id 202106010510 skipped\n",
      "race_id 202106010511 skipped\n",
      "race_id 202106010512 skipped\n",
      "race_id 202107010501 skipped\n",
      "race_id 202107010502 skipped\n",
      "race_id 202107010503 skipped\n",
      "race_id 202107010504 skipped\n",
      "race_id 202107010505 skipped\n",
      "race_id 202107010506 skipped\n",
      "race_id 202107010507 skipped\n",
      "race_id 202107010508 skipped\n",
      "race_id 202107010509 skipped\n",
      "race_id 202107010510 skipped\n",
      "race_id 202107010511 skipped\n",
      "race_id 202107010512 skipped\n",
      "race_id 202110010101 skipped\n",
      "race_id 202110010102 skipped\n",
      "race_id 202110010103 skipped\n",
      "race_id 202110010104 skipped\n",
      "race_id 202110010105 skipped\n",
      "race_id 202110010106 skipped\n",
      "race_id 202110010107 skipped\n",
      "race_id 202110010108 skipped\n",
      "race_id 202110010109 skipped\n",
      "race_id 202110010110 skipped\n",
      "race_id 202110010111 skipped\n",
      "race_id 202110010112 skipped\n",
      "race_id 202106010601 skipped\n",
      "race_id 202106010602 skipped\n",
      "race_id 202106010603 skipped\n",
      "race_id 202106010604 skipped\n",
      "race_id 202106010605 skipped\n",
      "race_id 202106010606 skipped\n",
      "race_id 202106010607 skipped\n",
      "race_id 202106010608 skipped\n",
      "race_id 202106010609 skipped\n",
      "race_id 202106010610 skipped\n",
      "race_id 202106010611 skipped\n",
      "race_id 202106010612 skipped\n",
      "race_id 202107010601 skipped\n",
      "race_id 202107010602 skipped\n",
      "race_id 202107010603 skipped\n",
      "race_id 202107010604 skipped\n",
      "race_id 202107010605 skipped\n",
      "race_id 202107010606 skipped\n",
      "race_id 202107010607 skipped\n",
      "race_id 202107010608 skipped\n",
      "race_id 202107010609 skipped\n",
      "race_id 202107010610 skipped\n",
      "race_id 202107010611 skipped\n",
      "race_id 202107010612 skipped\n",
      "race_id 202110010201 skipped\n",
      "race_id 202110010202 skipped\n",
      "race_id 202110010203 skipped\n",
      "race_id 202110010204 skipped\n",
      "race_id 202110010205 skipped\n",
      "race_id 202110010206 skipped\n",
      "race_id 202110010207 skipped\n",
      "race_id 202110010208 skipped\n",
      "race_id 202110010209 skipped\n",
      "race_id 202110010210 skipped\n",
      "race_id 202110010211 skipped\n",
      "race_id 202110010212 skipped\n",
      "race_id 202106010701 skipped\n",
      "race_id 202106010702 skipped\n",
      "race_id 202106010703 skipped\n",
      "race_id 202106010704 skipped\n",
      "race_id 202106010705 skipped\n",
      "race_id 202106010706 skipped\n",
      "race_id 202106010707 skipped\n",
      "race_id 202106010708 skipped\n",
      "race_id 202106010709 skipped\n",
      "race_id 202106010710 skipped\n",
      "race_id 202106010711 skipped\n",
      "race_id 202106010712 skipped\n",
      "race_id 202107010701 skipped\n",
      "race_id 202107010702 skipped\n",
      "race_id 202107010703 skipped\n",
      "race_id 202107010704 skipped\n",
      "race_id 202107010705 skipped\n",
      "race_id 202107010706 skipped\n",
      "race_id 202107010707 skipped\n",
      "race_id 202107010708 skipped\n",
      "race_id 202107010709 skipped\n",
      "race_id 202107010710 skipped\n",
      "race_id 202107010711 skipped\n",
      "race_id 202107010712 skipped\n",
      "race_id 202110010301 skipped\n",
      "race_id 202110010302 skipped\n",
      "race_id 202110010303 skipped\n",
      "race_id 202110010304 skipped\n",
      "race_id 202110010305 skipped\n",
      "race_id 202110010306 skipped\n",
      "race_id 202110010307 skipped\n",
      "race_id 202110010308 skipped\n",
      "race_id 202110010309 skipped\n",
      "race_id 202110010310 skipped\n",
      "race_id 202110010311 skipped\n",
      "race_id 202110010312 skipped\n",
      "race_id 202106010801 skipped\n",
      "race_id 202106010802 skipped\n",
      "race_id 202106010803 skipped\n",
      "race_id 202106010804 skipped\n",
      "race_id 202106010805 skipped\n",
      "race_id 202106010806 skipped\n",
      "race_id 202106010807 skipped\n",
      "race_id 202106010808 skipped\n",
      "race_id 202106010809 skipped\n",
      "race_id 202106010810 skipped\n",
      "race_id 202106010811 skipped\n",
      "race_id 202106010812 skipped\n",
      "race_id 202107010801 skipped\n",
      "race_id 202107010802 skipped\n",
      "race_id 202107010803 skipped\n",
      "race_id 202107010804 skipped\n",
      "race_id 202107010805 skipped\n",
      "race_id 202107010806 skipped\n",
      "race_id 202107010807 skipped\n",
      "race_id 202107010808 skipped\n",
      "race_id 202107010809 skipped\n",
      "race_id 202107010810 skipped\n",
      "race_id 202107010811 skipped\n",
      "race_id 202107010812 skipped\n",
      "race_id 202110010401 skipped\n",
      "race_id 202110010402 skipped\n",
      "race_id 202110010403 skipped\n",
      "race_id 202110010404 skipped\n",
      "race_id 202110010405 skipped\n",
      "race_id 202110010406 skipped\n",
      "race_id 202110010407 skipped\n",
      "race_id 202110010408 skipped\n",
      "race_id 202110010409 skipped\n",
      "race_id 202110010410 skipped\n",
      "race_id 202110010411 skipped\n",
      "race_id 202110010412 skipped\n",
      "race_id 202105010101 skipped\n",
      "race_id 202105010102 skipped\n",
      "race_id 202105010103 skipped\n",
      "race_id 202105010104 skipped\n",
      "race_id 202105010105 skipped\n",
      "race_id 202105010106 skipped\n",
      "race_id 202105010107 skipped\n",
      "race_id 202105010108 skipped\n",
      "race_id 202105010109 skipped\n",
      "race_id 202105010110 skipped\n",
      "race_id 202105010111 skipped\n",
      "race_id 202105010112 skipped\n",
      "race_id 202107010901 skipped\n",
      "race_id 202107010902 skipped\n",
      "race_id 202107010903 skipped\n",
      "race_id 202107010904 skipped\n",
      "race_id 202107010905 skipped\n",
      "race_id 202107010906 skipped\n",
      "race_id 202107010907 skipped\n",
      "race_id 202107010908 skipped\n",
      "race_id 202107010909 skipped\n",
      "race_id 202107010910 skipped\n",
      "race_id 202107010911 skipped\n",
      "race_id 202107010912 skipped\n",
      "race_id 202110010501 skipped\n",
      "race_id 202110010502 skipped\n",
      "race_id 202110010503 skipped\n",
      "race_id 202110010504 skipped\n",
      "race_id 202110010505 skipped\n",
      "race_id 202110010506 skipped\n",
      "race_id 202110010507 skipped\n",
      "race_id 202110010508 skipped\n",
      "race_id 202110010509 skipped\n",
      "race_id 202110010510 skipped\n",
      "race_id 202110010511 skipped\n",
      "race_id 202110010512 skipped\n",
      "race_id 202105010201 skipped\n",
      "race_id 202105010202 skipped\n",
      "race_id 202105010203 skipped\n",
      "race_id 202105010204 skipped\n",
      "race_id 202105010205 skipped\n",
      "race_id 202105010206 skipped\n",
      "race_id 202105010207 skipped\n",
      "race_id 202105010208 skipped\n",
      "race_id 202105010209 skipped\n",
      "race_id 202105010210 skipped\n",
      "race_id 202105010211 skipped\n",
      "race_id 202105010212 skipped\n",
      "race_id 202107011001 skipped\n",
      "race_id 202107011002 skipped\n",
      "race_id 202107011003 skipped\n"
     ]
    },
    {
     "ename": "KeyboardInterrupt",
     "evalue": "",
     "output_type": "error",
     "traceback": [
      "\u001b[0;31m---------------------------------------------------------------------------\u001b[0m",
      "\u001b[0;31mKeyboardInterrupt\u001b[0m                         Traceback (most recent call last)",
      "\u001b[1;32m/Users/toru/Keiba/main.ipynb セル 8\u001b[0m line \u001b[0;36m2\n\u001b[1;32m      <a href='vscode-notebook-cell:/Users/toru/Keiba/main.ipynb#X12sZmlsZQ%3D%3D?line=0'>1</a>\u001b[0m \u001b[39m#https://db.netkeiba.com/race/のhtml(binファイル)をスクレイピングして保存\u001b[39;00m\n\u001b[0;32m----> <a href='vscode-notebook-cell:/Users/toru/Keiba/main.ipynb#X12sZmlsZQ%3D%3D?line=1'>2</a>\u001b[0m html_files_race \u001b[39m=\u001b[39m preparing\u001b[39m.\u001b[39;49mscrape_html_race(race_id_list, skip\u001b[39m=\u001b[39;49m\u001b[39mTrue\u001b[39;49;00m)\n\u001b[1;32m      <a href='vscode-notebook-cell:/Users/toru/Keiba/main.ipynb#X12sZmlsZQ%3D%3D?line=2'>3</a>\u001b[0m html_files_race[:\u001b[39m5\u001b[39m]\n",
      "File \u001b[0;32m~/Keiba/modules/preparing/_scrape_html.py:16\u001b[0m, in \u001b[0;36mscrape_html_race\u001b[0;34m(race_id_list, skip)\u001b[0m\n\u001b[1;32m     14\u001b[0m \u001b[39mfor\u001b[39;00m race_id \u001b[39min\u001b[39;00m tqdm(race_id_list):\n\u001b[1;32m     15\u001b[0m     url \u001b[39m=\u001b[39m UrlPaths\u001b[39m.\u001b[39mRACE_URL \u001b[39m+\u001b[39m race_id \u001b[39m#race_idからurlを作る\u001b[39;00m\n\u001b[0;32m---> 16\u001b[0m     time\u001b[39m.\u001b[39;49msleep(\u001b[39m1\u001b[39;49m) \u001b[39m#相手サーバーに負担をかけないように1秒待機する\u001b[39;00m\n\u001b[1;32m     17\u001b[0m     html \u001b[39m=\u001b[39m urlopen(url)\u001b[39m.\u001b[39mread() \u001b[39m#スクレイピング実行\u001b[39;00m\n\u001b[1;32m     18\u001b[0m     filename \u001b[39m=\u001b[39m os\u001b[39m.\u001b[39mpath\u001b[39m.\u001b[39mjoin(LocalDirs\u001b[39m.\u001b[39mHTML_RACE_DIR, race_id\u001b[39m+\u001b[39m\u001b[39m'\u001b[39m\u001b[39m.bin\u001b[39m\u001b[39m'\u001b[39m)\n",
      "\u001b[0;31mKeyboardInterrupt\u001b[0m: "
     ]
    }
   ],
   "source": [
    "#https://db.netkeiba.com/race/のhtml(binファイル)をスクレイピングして保存\n",
    "html_files_race = preparing.scrape_html_race(race_id_list, skip=True)\n",
    "html_files_race[:5]"
   ]
  },
  {
   "cell_type": "code",
   "execution_count": 11,
   "metadata": {},
   "outputs": [
    {
     "data": {
      "text/plain": [
       "['./data/html/race/202106030610.bin',\n",
       " './data/html/race/202106020403.bin',\n",
       " './data/html/race/202110040411.bin',\n",
       " './data/html/race/202101010201.bin',\n",
       " './data/html/race/202104020508.bin']"
      ]
     },
     "execution_count": 11,
     "metadata": {},
     "output_type": "execute_result"
    }
   ],
   "source": [
    "directory = './data/html/race'\n",
    "races = os.listdir(directory)\n",
    "html_files_race = [os.path.join(directory, file) for file in races]\n",
    "\n"
   ]
  },
  {
   "cell_type": "code",
   "execution_count": 10,
   "metadata": {},
   "outputs": [
    {
     "name": "stdout",
     "output_type": "stream",
     "text": [
      "preparing raw results table\n"
     ]
    },
    {
     "data": {
      "application/vnd.jupyter.widget-view+json": {
       "model_id": "16ee2cd46f6140ceb61bb1a8185a8d32",
       "version_major": 2,
       "version_minor": 0
      },
      "text/plain": [
       "  0%|          | 0/3457 [00:00<?, ?it/s]"
      ]
     },
     "metadata": {},
     "output_type": "display_data"
    },
    {
     "ename": "FileNotFoundError",
     "evalue": "[Errno 2] No such file or directory: '202106030610.bin'",
     "output_type": "error",
     "traceback": [
      "\u001b[0;31m---------------------------------------------------------------------------\u001b[0m",
      "\u001b[0;31mFileNotFoundError\u001b[0m                         Traceback (most recent call last)",
      "\u001b[1;32m/Users/toru/Keiba/main.ipynb セル 10\u001b[0m line \u001b[0;36m1\n\u001b[0;32m----> <a href='vscode-notebook-cell:/Users/toru/Keiba/main.ipynb#X14sZmlsZQ%3D%3D?line=0'>1</a>\u001b[0m results \u001b[39m=\u001b[39m preparing\u001b[39m.\u001b[39;49mget_rawdata_results(html_files_race) \u001b[39m#レース結果テーブルの作成\u001b[39;00m\n\u001b[1;32m      <a href='vscode-notebook-cell:/Users/toru/Keiba/main.ipynb#X14sZmlsZQ%3D%3D?line=1'>2</a>\u001b[0m race_info \u001b[39m=\u001b[39m preparing\u001b[39m.\u001b[39mget_rawdata_info(html_files_race) \u001b[39m#レース情報テーブルの作成\u001b[39;00m\n\u001b[1;32m      <a href='vscode-notebook-cell:/Users/toru/Keiba/main.ipynb#X14sZmlsZQ%3D%3D?line=2'>3</a>\u001b[0m return_table \u001b[39m=\u001b[39m preparing\u001b[39m.\u001b[39mget_rawdata_return(html_files_race) \u001b[39m#払戻テーブルの作成\u001b[39;00m\n",
      "File \u001b[0;32m~/Keiba/modules/preparing/_get_rawdata.py:13\u001b[0m, in \u001b[0;36mget_rawdata_results\u001b[0;34m(html_path_list)\u001b[0m\n\u001b[1;32m     11\u001b[0m race_results \u001b[39m=\u001b[39m {}\n\u001b[1;32m     12\u001b[0m \u001b[39mfor\u001b[39;00m html_path \u001b[39min\u001b[39;00m tqdm(html_path_list):\n\u001b[0;32m---> 13\u001b[0m     \u001b[39mwith\u001b[39;00m \u001b[39mopen\u001b[39;49m(html_path, \u001b[39m'\u001b[39;49m\u001b[39mrb\u001b[39;49m\u001b[39m'\u001b[39;49m) \u001b[39mas\u001b[39;00m f:\n\u001b[1;32m     14\u001b[0m         \u001b[39mtry\u001b[39;00m:\n\u001b[1;32m     15\u001b[0m             html \u001b[39m=\u001b[39m f\u001b[39m.\u001b[39mread() \u001b[39m#保存してあるbinファイルを読み込む\u001b[39;00m\n",
      "\u001b[0;31mFileNotFoundError\u001b[0m: [Errno 2] No such file or directory: '202106030610.bin'"
     ]
    }
   ],
   "source": [
    "results = preparing.get_rawdata_results(html_files_race) #レース結果テーブルの作成\n",
    "race_info = preparing.get_rawdata_info(html_files_race) #レース情報テーブルの作成\n",
    "return_table = preparing.get_rawdata_return(html_files_race) #払戻テーブルの作成"
   ]
  },
  {
   "cell_type": "code",
   "execution_count": 100,
   "metadata": {},
   "outputs": [],
   "source": [
    "#保存\n",
    "results.to_pickle('data/raw/results/results_2021.pickle')\n",
    "race_info.to_pickle('data/raw/race_info/race_info_2021.pickle')\n",
    "return_table.to_pickle('data/raw/return_tables/return_tables_2021.pickle')"
   ]
  },
  {
   "cell_type": "markdown",
   "metadata": {},
   "source": [
    "## 2.3. /horse/ディレクトリのデータ取得"
   ]
  },
  {
   "cell_type": "code",
   "execution_count": 15,
   "metadata": {},
   "outputs": [
    {
     "data": {
      "application/vnd.jupyter.widget-view+json": {
       "model_id": "b5ec1334213a4934aaec4b28fbd7254b",
       "version_major": 2,
       "version_minor": 0
      },
      "text/plain": [
       "  0%|          | 0/5 [00:00<?, ?it/s]"
      ]
     },
     "metadata": {},
     "output_type": "display_data"
    },
    {
     "name": "stdout",
     "output_type": "stream",
     "text": [
      "horse_id 2018106541 skipped\n",
      "horse_id 2018103708 skipped\n",
      "horse_id 2018103805 skipped\n",
      "horse_id 2018101171 skipped\n"
     ]
    }
   ],
   "source": [
    "horse_id_list = results['horse_id'].unique()\n",
    "html_files_horse = preparing.scrape_html_horse(horse_id_list, skip=True) #htmlをスクレイピング"
   ]
  },
  {
   "cell_type": "code",
   "execution_count": 18,
   "metadata": {},
   "outputs": [
    {
     "data": {
      "application/vnd.jupyter.widget-view+json": {
       "model_id": "77ac2779ea58424ba825820699f98db9",
       "version_major": 2,
       "version_minor": 0
      },
      "text/plain": [
       "  0%|          | 0/5 [00:00<?, ?it/s]"
      ]
     },
     "metadata": {},
     "output_type": "display_data"
    },
    {
     "data": {
      "text/plain": [
       "['/Users/chiyoda/Documents/readers-repo/data/html/horse/2018106541.bin',\n",
       " '/Users/chiyoda/Documents/readers-repo/data/html/horse/2018103708.bin',\n",
       " '/Users/chiyoda/Documents/readers-repo/data/html/horse/2018103805.bin',\n",
       " '/Users/chiyoda/Documents/readers-repo/data/html/horse/2018101171.bin',\n",
       " '/Users/chiyoda/Documents/readers-repo/data/html/horse/2018103832.bin']"
      ]
     },
     "execution_count": 18,
     "metadata": {},
     "output_type": "execute_result"
    }
   ],
   "source": [
    "html_files_horse = []\n",
    "for horse_id in tqdm(horse_id_list):\n",
    "    file = glob.glob(os.path.join(LocalDirs.HTML_HORSE_DIR, horse_id+'*.bin'))[0]\n",
    "    html_files_horse.append(file)\n",
    "html_files_horse[:5]"
   ]
  },
  {
   "cell_type": "code",
   "execution_count": 19,
   "metadata": {},
   "outputs": [
    {
     "data": {
      "application/vnd.jupyter.widget-view+json": {
       "model_id": "e9923369ea4b4ba6935345f1194c449d",
       "version_major": 2,
       "version_minor": 0
      },
      "text/plain": [
       "  0%|          | 0/5 [00:00<?, ?it/s]"
      ]
     },
     "metadata": {},
     "output_type": "display_data"
    }
   ],
   "source": [
    "horse_results_2021 = preparing.get_rawdata_horse_results(html_files_horse) #馬の過去成績テーブルの作成\n",
    "horse_results_2021.to_pickle('data/raw/horse_results/horse_results_2021.pickle')"
   ]
  },
  {
   "cell_type": "markdown",
   "metadata": {},
   "source": [
    "## 2.4. /ped/ディレクトリのデータ取得"
   ]
  },
  {
   "cell_type": "code",
   "execution_count": 20,
   "metadata": {},
   "outputs": [
    {
     "data": {
      "application/vnd.jupyter.widget-view+json": {
       "model_id": "dac873303fa4402991881bfef2995cb2",
       "version_major": 2,
       "version_minor": 0
      },
      "text/plain": [
       "  0%|          | 0/5 [00:00<?, ?it/s]"
      ]
     },
     "metadata": {},
     "output_type": "display_data"
    }
   ],
   "source": [
    "html_files_peds = preparing.scrape_html_ped(horse_id_list, skip=True) #htmlをスクレイピング"
   ]
  },
  {
   "cell_type": "code",
   "execution_count": 21,
   "metadata": {},
   "outputs": [
    {
     "data": {
      "application/vnd.jupyter.widget-view+json": {
       "model_id": "6052d39df23e4ac1b0d0769d8663c403",
       "version_major": 2,
       "version_minor": 0
      },
      "text/plain": [
       "  0%|          | 0/5 [00:00<?, ?it/s]"
      ]
     },
     "metadata": {},
     "output_type": "display_data"
    }
   ],
   "source": [
    "peds_2021 = preparing.get_rawdata_peds(html_files_peds) #血統テーブルの作成\n",
    "peds_2021.to_pickle('data/raw/peds/peds_2021.pickle')"
   ]
  },
  {
   "cell_type": "markdown",
   "metadata": {},
   "source": [
    "# 3. データ加工"
   ]
  },
  {
   "cell_type": "code",
   "execution_count": 83,
   "metadata": {},
   "outputs": [],
   "source": [
    "#モジュールを更新した際、notebookに反映させるために使用。\n",
    "#すでにインポートしてあるモジュールの更新が反映される。\n",
    "%autoreload"
   ]
  },
  {
   "cell_type": "code",
   "execution_count": 22,
   "metadata": {},
   "outputs": [],
   "source": [
    "#rawデータファイルパスの取得\n",
    "files_results = glob.glob(os.path.join(LocalDirs.RAW_RESULTS_DIR, '*.pickle'))\n",
    "files_race_info = glob.glob(os.path.join(LocalDirs.RAW_RACE_INFO_DIR, '*.pickle'))\n",
    "files_return = glob.glob(os.path.join(LocalDirs.RAW_RETURN_DIR, '*.pickle'))\n",
    "files_horse_results = glob.glob(os.path.join(LocalDirs.RAW_HORSE_RESULTS_DIR, '*.pickle'))\n",
    "files_peds = glob.glob(os.path.join(LocalDirs.RAW_PEDS_DIR, '*.pickle'))"
   ]
  },
  {
   "cell_type": "code",
   "execution_count": 23,
   "metadata": {},
   "outputs": [],
   "source": [
    "#前処理\n",
    "results_processor = preprocessing.ResultsProcessor(files_results)\n",
    "race_info_processor = preprocessing.RaceInfoProcessor(files_race_info)\n",
    "return_processor = preprocessing.ReturnProcessor(files_return)\n",
    "horse_results_processor = preprocessing.HorseResultsProcessor(files_horse_results)\n",
    "peds_processor = preprocessing.PedsProcessor(files_peds)"
   ]
  },
  {
   "cell_type": "code",
   "execution_count": 24,
   "metadata": {},
   "outputs": [
    {
     "name": "stdout",
     "output_type": "stream",
     "text": [
      "separating horse results by date\n"
     ]
    },
    {
     "data": {
      "application/vnd.jupyter.widget-view+json": {
       "model_id": "2c16a97230e64cbbac2b12f5244b92e3",
       "version_major": 2,
       "version_minor": 0
      },
      "text/plain": [
       "  0%|          | 0/106 [00:00<?, ?it/s]"
      ]
     },
     "metadata": {},
     "output_type": "display_data"
    },
    {
     "name": "stdout",
     "output_type": "stream",
     "text": [
      "merging horse_results\n"
     ]
    },
    {
     "data": {
      "application/vnd.jupyter.widget-view+json": {
       "model_id": "0027eabcf1ae4e418fb66b7f9ac7ce2f",
       "version_major": 2,
       "version_minor": 0
      },
      "text/plain": [
       "  0%|          | 0/106 [00:00<?, ?it/s]"
      ]
     },
     "metadata": {},
     "output_type": "display_data"
    }
   ],
   "source": [
    "### 馬の過去成績を集計しつつ、前処理の済みの全てのテーブルをマージする処理 ###\n",
    "\n",
    "#ターゲットエンコーディング時に「馬の成績」として扱う項目\n",
    "TARGET_COLS = ['着順', '賞金', '着差', 'first_corner', 'final_corner',\n",
    "               'first_to_rank', 'first_to_final','final_to_rank']\n",
    "#horse_id列と共に、ターゲットエンコーディングの対象にする列\n",
    "GROUP_COLS = ['course_len', 'race_type', '開催']\n",
    "\n",
    "data_merger = preprocessing.DataMerger(\n",
    "        results_processor,\n",
    "        race_info_processor,\n",
    "        horse_results_processor,\n",
    "        peds_processor,\n",
    "        target_cols=TARGET_COLS,\n",
    "        group_cols=GROUP_COLS\n",
    ")\n",
    "data_merger.merge() #処理実行"
   ]
  },
  {
   "cell_type": "code",
   "execution_count": 25,
   "metadata": {},
   "outputs": [],
   "source": [
    "#カテゴリ変数の処理\n",
    "feature_enginnering = preprocessing.FeatureEngineering(data_merger)\\\n",
    "    .add_interval()\\\n",
    "        .dumminize_ground_state()\\\n",
    "            .dumminize_race_type()\\\n",
    "                .dumminize_sex()\\\n",
    "                    .dumminize_weather()\\\n",
    "                        .encode_horse_id()\\\n",
    "                            .encode_jockey_id()\\\n",
    "                                .dumminize_kaisai()"
   ]
  },
  {
   "cell_type": "code",
   "execution_count": 26,
   "metadata": {},
   "outputs": [],
   "source": [
    "#保存\n",
    "#tmpは一時保存用のディレクトリ\n",
    "feature_enginnering.featured_data.to_pickle('data/tmp/featured_data_2021.pickle')"
   ]
  },
  {
   "cell_type": "markdown",
   "metadata": {},
   "source": [
    "# 4. 学習"
   ]
  },
  {
   "cell_type": "code",
   "execution_count": 27,
   "metadata": {},
   "outputs": [
    {
     "name": "stderr",
     "output_type": "stream",
     "text": [
      "\u001b[32m[I 2022-06-15 19:51:06,339]\u001b[0m A new study created in memory with name: no-name-1a12fe30-a4fc-4b92-9daf-67a3e775221e\u001b[0m\n",
      "feature_fraction, val_score: inf:   0%|          | 0/7 [00:00<?, ?it/s]"
     ]
    },
    {
     "name": "stdout",
     "output_type": "stream",
     "text": [
      "[LightGBM] [Info] Number of positive: 5073, number of negative: 18322\n",
      "[LightGBM] [Warning] Auto-choosing row-wise multi-threading, the overhead of testing was 0.008260 seconds.\n",
      "You can set `force_row_wise=true` to remove the overhead.\n",
      "And if memory is not enough, you can set `force_col_wise=true`.\n",
      "[LightGBM] [Info] Total Bins 29799\n",
      "[LightGBM] [Info] Number of data points in the train set: 23395, number of used features: 190\n",
      "[LightGBM] [Info] [binary:BoostFromScore]: pavg=0.216841 -> initscore=-1.284170\n",
      "[LightGBM] [Info] Start training from score -1.284170\n",
      "Training until validation scores don't improve for 10 rounds\n"
     ]
    },
    {
     "name": "stderr",
     "output_type": "stream",
     "text": [
      "feature_fraction, val_score: 0.505442:  14%|#4        | 1/7 [00:01<00:08,  1.48s/it]\u001b[32m[I 2022-06-15 19:51:07,830]\u001b[0m Trial 0 finished with value: 0.5054415600003753 and parameters: {'feature_fraction': 1.0}. Best is trial 0 with value: 0.5054415600003753.\u001b[0m\n",
      "feature_fraction, val_score: 0.505442:  14%|#4        | 1/7 [00:01<00:08,  1.48s/it]"
     ]
    },
    {
     "name": "stdout",
     "output_type": "stream",
     "text": [
      "Early stopping, best iteration is:\n",
      "[51]\tvalid_0's binary_logloss: 0.412672\tvalid_1's binary_logloss: 0.505442\n",
      "[LightGBM] [Info] Number of positive: 5073, number of negative: 18322\n",
      "[LightGBM] [Warning] Auto-choosing col-wise multi-threading, the overhead of testing was 0.012748 seconds.\n",
      "You can set `force_col_wise=true` to remove the overhead.\n",
      "[LightGBM] [Info] Total Bins 29799\n",
      "[LightGBM] [Info] Number of data points in the train set: 23395, number of used features: 190\n",
      "[LightGBM] [Info] [binary:BoostFromScore]: pavg=0.216841 -> initscore=-1.284170\n",
      "[LightGBM] [Info] Start training from score -1.284170\n",
      "Training until validation scores don't improve for 10 rounds\n"
     ]
    },
    {
     "name": "stderr",
     "output_type": "stream",
     "text": [
      "feature_fraction, val_score: 0.504646:  29%|##8       | 2/7 [00:02<00:05,  1.19s/it]\u001b[32m[I 2022-06-15 19:51:08,810]\u001b[0m Trial 1 finished with value: 0.5046459667512856 and parameters: {'feature_fraction': 0.8999999999999999}. Best is trial 1 with value: 0.5046459667512856.\u001b[0m\n",
      "feature_fraction, val_score: 0.504646:  29%|##8       | 2/7 [00:02<00:05,  1.19s/it]"
     ]
    },
    {
     "name": "stdout",
     "output_type": "stream",
     "text": [
      "Early stopping, best iteration is:\n",
      "[38]\tvalid_0's binary_logloss: 0.428028\tvalid_1's binary_logloss: 0.504646\n",
      "[LightGBM] [Info] Number of positive: 5073, number of negative: 18322\n",
      "[LightGBM] [Warning] Auto-choosing row-wise multi-threading, the overhead of testing was 0.006451 seconds.\n",
      "You can set `force_row_wise=true` to remove the overhead.\n",
      "And if memory is not enough, you can set `force_col_wise=true`.\n",
      "[LightGBM] [Info] Total Bins 29799\n",
      "[LightGBM] [Info] Number of data points in the train set: 23395, number of used features: 190\n",
      "[LightGBM] [Info] [binary:BoostFromScore]: pavg=0.216841 -> initscore=-1.284170\n",
      "[LightGBM] [Info] Start training from score -1.284170\n",
      "Training until validation scores don't improve for 10 rounds\n"
     ]
    },
    {
     "name": "stderr",
     "output_type": "stream",
     "text": [
      "feature_fraction, val_score: 0.504646:  43%|####2     | 3/7 [00:03<00:04,  1.01s/it]\u001b[32m[I 2022-06-15 19:51:09,612]\u001b[0m Trial 2 finished with value: 0.5062636829245499 and parameters: {'feature_fraction': 0.8}. Best is trial 1 with value: 0.5046459667512856.\u001b[0m\n",
      "feature_fraction, val_score: 0.504646:  43%|####2     | 3/7 [00:03<00:04,  1.01s/it]"
     ]
    },
    {
     "name": "stdout",
     "output_type": "stream",
     "text": [
      "Early stopping, best iteration is:\n",
      "[31]\tvalid_0's binary_logloss: 0.437944\tvalid_1's binary_logloss: 0.506264\n",
      "[LightGBM] [Info] Number of positive: 5073, number of negative: 18322\n",
      "[LightGBM] [Warning] Auto-choosing row-wise multi-threading, the overhead of testing was 0.004834 seconds.\n",
      "You can set `force_row_wise=true` to remove the overhead.\n",
      "And if memory is not enough, you can set `force_col_wise=true`.\n",
      "[LightGBM] [Info] Total Bins 29799\n",
      "[LightGBM] [Info] Number of data points in the train set: 23395, number of used features: 190\n",
      "[LightGBM] [Info] [binary:BoostFromScore]: pavg=0.216841 -> initscore=-1.284170\n",
      "[LightGBM] [Info] Start training from score -1.284170\n",
      "Training until validation scores don't improve for 10 rounds\n"
     ]
    },
    {
     "name": "stderr",
     "output_type": "stream",
     "text": [
      "feature_fraction, val_score: 0.504646:  57%|#####7    | 4/7 [00:03<00:02,  1.14it/s]\u001b[32m[I 2022-06-15 19:51:10,285]\u001b[0m Trial 3 finished with value: 0.5068168409517578 and parameters: {'feature_fraction': 0.4}. Best is trial 1 with value: 0.5046459667512856.\u001b[0m\n",
      "feature_fraction, val_score: 0.504646:  57%|#####7    | 4/7 [00:03<00:02,  1.14it/s]"
     ]
    },
    {
     "name": "stdout",
     "output_type": "stream",
     "text": [
      "Early stopping, best iteration is:\n",
      "[31]\tvalid_0's binary_logloss: 0.439497\tvalid_1's binary_logloss: 0.506817\n",
      "[LightGBM] [Info] Number of positive: 5073, number of negative: 18322\n",
      "[LightGBM] [Warning] Auto-choosing row-wise multi-threading, the overhead of testing was 0.004804 seconds.\n",
      "You can set `force_row_wise=true` to remove the overhead.\n",
      "And if memory is not enough, you can set `force_col_wise=true`.\n",
      "[LightGBM] [Info] Total Bins 29799\n",
      "[LightGBM] [Info] Number of data points in the train set: 23395, number of used features: 190\n",
      "[LightGBM] [Info] [binary:BoostFromScore]: pavg=0.216841 -> initscore=-1.284170\n",
      "[LightGBM] [Info] Start training from score -1.284170\n",
      "Training until validation scores don't improve for 10 rounds\n"
     ]
    },
    {
     "name": "stderr",
     "output_type": "stream",
     "text": [
      "feature_fraction, val_score: 0.504646:  71%|#######1  | 5/7 [00:04<00:01,  1.17it/s]\u001b[32m[I 2022-06-15 19:51:11,101]\u001b[0m Trial 4 finished with value: 0.5076681034451865 and parameters: {'feature_fraction': 0.5}. Best is trial 1 with value: 0.5046459667512856.\u001b[0m\n",
      "feature_fraction, val_score: 0.504646:  71%|#######1  | 5/7 [00:04<00:01,  1.17it/s]"
     ]
    },
    {
     "name": "stdout",
     "output_type": "stream",
     "text": [
      "Early stopping, best iteration is:\n",
      "[40]\tvalid_0's binary_logloss: 0.428785\tvalid_1's binary_logloss: 0.507668\n",
      "[LightGBM] [Info] Number of positive: 5073, number of negative: 18322\n",
      "[LightGBM] [Warning] Auto-choosing row-wise multi-threading, the overhead of testing was 0.004892 seconds.\n",
      "You can set `force_row_wise=true` to remove the overhead.\n",
      "And if memory is not enough, you can set `force_col_wise=true`.\n",
      "[LightGBM] [Info] Total Bins 29799\n",
      "[LightGBM] [Info] Number of data points in the train set: 23395, number of used features: 190\n",
      "[LightGBM] [Info] [binary:BoostFromScore]: pavg=0.216841 -> initscore=-1.284170\n",
      "[LightGBM] [Info] Start training from score -1.284170\n",
      "Training until validation scores don't improve for 10 rounds\n"
     ]
    },
    {
     "name": "stderr",
     "output_type": "stream",
     "text": [
      "feature_fraction, val_score: 0.504646:  86%|########5 | 6/7 [00:05<00:00,  1.23it/s]\u001b[32m[I 2022-06-15 19:51:11,837]\u001b[0m Trial 5 finished with value: 0.507210372937177 and parameters: {'feature_fraction': 0.7}. Best is trial 1 with value: 0.5046459667512856.\u001b[0m\n",
      "feature_fraction, val_score: 0.504646:  86%|########5 | 6/7 [00:05<00:00,  1.23it/s]"
     ]
    },
    {
     "name": "stdout",
     "output_type": "stream",
     "text": [
      "Early stopping, best iteration is:\n",
      "[34]\tvalid_0's binary_logloss: 0.434306\tvalid_1's binary_logloss: 0.50721\n",
      "[LightGBM] [Info] Number of positive: 5073, number of negative: 18322\n",
      "[LightGBM] [Warning] Auto-choosing row-wise multi-threading, the overhead of testing was 0.006681 seconds.\n",
      "You can set `force_row_wise=true` to remove the overhead.\n",
      "And if memory is not enough, you can set `force_col_wise=true`.\n",
      "[LightGBM] [Info] Total Bins 29799\n",
      "[LightGBM] [Info] Number of data points in the train set: 23395, number of used features: 190\n",
      "[LightGBM] [Info] [binary:BoostFromScore]: pavg=0.216841 -> initscore=-1.284170\n",
      "[LightGBM] [Info] Start training from score -1.284170\n",
      "Training until validation scores don't improve for 10 rounds\n"
     ]
    },
    {
     "name": "stderr",
     "output_type": "stream",
     "text": [
      "feature_fraction, val_score: 0.504646: 100%|##########| 7/7 [00:06<00:00,  1.18it/s]\u001b[32m[I 2022-06-15 19:51:12,745]\u001b[0m Trial 6 finished with value: 0.5069693236798697 and parameters: {'feature_fraction': 0.6}. Best is trial 1 with value: 0.5046459667512856.\u001b[0m\n",
      "feature_fraction, val_score: 0.504646: 100%|##########| 7/7 [00:06<00:00,  1.09it/s]\n"
     ]
    },
    {
     "name": "stdout",
     "output_type": "stream",
     "text": [
      "Early stopping, best iteration is:\n",
      "[43]\tvalid_0's binary_logloss: 0.423502\tvalid_1's binary_logloss: 0.506969\n"
     ]
    },
    {
     "name": "stderr",
     "output_type": "stream",
     "text": [
      "num_leaves, val_score: 0.504646:   0%|          | 0/20 [00:00<?, ?it/s]"
     ]
    },
    {
     "name": "stdout",
     "output_type": "stream",
     "text": [
      "[LightGBM] [Info] Number of positive: 5073, number of negative: 18322\n",
      "[LightGBM] [Warning] Auto-choosing row-wise multi-threading, the overhead of testing was 0.005763 seconds.\n",
      "You can set `force_row_wise=true` to remove the overhead.\n",
      "And if memory is not enough, you can set `force_col_wise=true`.\n",
      "[LightGBM] [Info] Total Bins 29799\n",
      "[LightGBM] [Info] Number of data points in the train set: 23395, number of used features: 190\n",
      "[LightGBM] [Info] [binary:BoostFromScore]: pavg=0.216841 -> initscore=-1.284170\n",
      "[LightGBM] [Info] Start training from score -1.284170\n",
      "Training until validation scores don't improve for 10 rounds\n"
     ]
    },
    {
     "name": "stderr",
     "output_type": "stream",
     "text": [
      "num_leaves, val_score: 0.504646:   5%|5         | 1/20 [00:01<00:35,  1.89s/it]\u001b[32m[I 2022-06-15 19:51:14,643]\u001b[0m Trial 7 finished with value: 0.5059893279958846 and parameters: {'num_leaves': 140}. Best is trial 7 with value: 0.5059893279958846.\u001b[0m\n",
      "num_leaves, val_score: 0.504646:   5%|5         | 1/20 [00:01<00:35,  1.89s/it]"
     ]
    },
    {
     "name": "stdout",
     "output_type": "stream",
     "text": [
      "Early stopping, best iteration is:\n",
      "[26]\tvalid_0's binary_logloss: 0.35361\tvalid_1's binary_logloss: 0.505989\n",
      "[LightGBM] [Info] Number of positive: 5073, number of negative: 18322\n",
      "[LightGBM] [Warning] Auto-choosing row-wise multi-threading, the overhead of testing was 0.012156 seconds.\n",
      "You can set `force_row_wise=true` to remove the overhead.\n",
      "And if memory is not enough, you can set `force_col_wise=true`.\n",
      "[LightGBM] [Info] Total Bins 29799\n",
      "[LightGBM] [Info] Number of data points in the train set: 23395, number of used features: 190\n",
      "[LightGBM] [Info] [binary:BoostFromScore]: pavg=0.216841 -> initscore=-1.284170\n",
      "[LightGBM] [Info] Start training from score -1.284170\n",
      "Training until validation scores don't improve for 10 rounds\n"
     ]
    },
    {
     "name": "stderr",
     "output_type": "stream",
     "text": [
      "num_leaves, val_score: 0.504646:  10%|#         | 2/20 [00:03<00:29,  1.66s/it]\u001b[32m[I 2022-06-15 19:51:16,139]\u001b[0m Trial 8 finished with value: 0.5047640527622039 and parameters: {'num_leaves': 72}. Best is trial 8 with value: 0.5047640527622039.\u001b[0m\n",
      "num_leaves, val_score: 0.504646:  10%|#         | 2/20 [00:03<00:29,  1.66s/it]"
     ]
    },
    {
     "name": "stdout",
     "output_type": "stream",
     "text": [
      "Early stopping, best iteration is:\n",
      "[32]\tvalid_0's binary_logloss: 0.387733\tvalid_1's binary_logloss: 0.504764\n",
      "[LightGBM] [Info] Number of positive: 5073, number of negative: 18322\n",
      "[LightGBM] [Warning] Auto-choosing row-wise multi-threading, the overhead of testing was 0.006110 seconds.\n",
      "You can set `force_row_wise=true` to remove the overhead.\n",
      "And if memory is not enough, you can set `force_col_wise=true`.\n",
      "[LightGBM] [Info] Total Bins 29799\n",
      "[LightGBM] [Info] Number of data points in the train set: 23395, number of used features: 190\n",
      "[LightGBM] [Info] [binary:BoostFromScore]: pavg=0.216841 -> initscore=-1.284170\n",
      "[LightGBM] [Info] Start training from score -1.284170\n",
      "Training until validation scores don't improve for 10 rounds\n"
     ]
    },
    {
     "name": "stderr",
     "output_type": "stream",
     "text": [
      "num_leaves, val_score: 0.504646:  15%|#5        | 3/20 [00:05<00:27,  1.64s/it]\u001b[32m[I 2022-06-15 19:51:17,755]\u001b[0m Trial 9 finished with value: 0.5061952351657633 and parameters: {'num_leaves': 110}. Best is trial 8 with value: 0.5047640527622039.\u001b[0m\n",
      "num_leaves, val_score: 0.504646:  15%|#5        | 3/20 [00:05<00:27,  1.64s/it]"
     ]
    },
    {
     "name": "stdout",
     "output_type": "stream",
     "text": [
      "Early stopping, best iteration is:\n",
      "[28]\tvalid_0's binary_logloss: 0.367983\tvalid_1's binary_logloss: 0.506195\n",
      "[LightGBM] [Info] Number of positive: 5073, number of negative: 18322\n",
      "[LightGBM] [Warning] Auto-choosing col-wise multi-threading, the overhead of testing was 0.013849 seconds.\n",
      "You can set `force_col_wise=true` to remove the overhead.\n",
      "[LightGBM] [Info] Total Bins 29799\n",
      "[LightGBM] [Info] Number of data points in the train set: 23395, number of used features: 190\n",
      "[LightGBM] [Info] [binary:BoostFromScore]: pavg=0.216841 -> initscore=-1.284170\n",
      "[LightGBM] [Info] Start training from score -1.284170\n",
      "Training until validation scores don't improve for 10 rounds\n"
     ]
    },
    {
     "name": "stderr",
     "output_type": "stream",
     "text": [
      "num_leaves, val_score: 0.504646:  20%|##        | 4/20 [00:07<00:28,  1.80s/it]\u001b[32m[I 2022-06-15 19:51:19,812]\u001b[0m Trial 10 finished with value: 0.5090273943899383 and parameters: {'num_leaves': 217}. Best is trial 8 with value: 0.5047640527622039.\u001b[0m\n",
      "num_leaves, val_score: 0.504646:  20%|##        | 4/20 [00:07<00:28,  1.80s/it]"
     ]
    },
    {
     "name": "stdout",
     "output_type": "stream",
     "text": [
      "Early stopping, best iteration is:\n",
      "[19]\tvalid_0's binary_logloss: 0.346589\tvalid_1's binary_logloss: 0.509027\n",
      "[LightGBM] [Info] Number of positive: 5073, number of negative: 18322\n",
      "[LightGBM] [Warning] Auto-choosing row-wise multi-threading, the overhead of testing was 0.034955 seconds.\n",
      "You can set `force_row_wise=true` to remove the overhead.\n",
      "And if memory is not enough, you can set `force_col_wise=true`.\n",
      "[LightGBM] [Info] Total Bins 29799\n",
      "[LightGBM] [Info] Number of data points in the train set: 23395, number of used features: 190\n",
      "[LightGBM] [Info] [binary:BoostFromScore]: pavg=0.216841 -> initscore=-1.284170\n",
      "[LightGBM] [Info] Start training from score -1.284170\n",
      "Training until validation scores don't improve for 10 rounds\n"
     ]
    },
    {
     "name": "stderr",
     "output_type": "stream",
     "text": [
      "num_leaves, val_score: 0.504646:  25%|##5       | 5/20 [00:07<00:20,  1.35s/it]\u001b[32m[I 2022-06-15 19:51:20,367]\u001b[0m Trial 11 finished with value: 0.5119089014667797 and parameters: {'num_leaves': 3}. Best is trial 8 with value: 0.5047640527622039.\u001b[0m\n",
      "num_leaves, val_score: 0.504646:  25%|##5       | 5/20 [00:07<00:20,  1.35s/it]"
     ]
    },
    {
     "name": "stdout",
     "output_type": "stream",
     "text": [
      "Early stopping, best iteration is:\n",
      "[66]\tvalid_0's binary_logloss: 0.4778\tvalid_1's binary_logloss: 0.511909\n",
      "[LightGBM] [Info] Number of positive: 5073, number of negative: 18322\n",
      "[LightGBM] [Warning] Auto-choosing row-wise multi-threading, the overhead of testing was 0.013652 seconds.\n",
      "You can set `force_row_wise=true` to remove the overhead.\n",
      "And if memory is not enough, you can set `force_col_wise=true`.\n",
      "[LightGBM] [Info] Total Bins 29799\n",
      "[LightGBM] [Info] Number of data points in the train set: 23395, number of used features: 190\n",
      "[LightGBM] [Info] [binary:BoostFromScore]: pavg=0.216841 -> initscore=-1.284170\n",
      "[LightGBM] [Info] Start training from score -1.284170\n",
      "Training until validation scores don't improve for 10 rounds\n"
     ]
    },
    {
     "name": "stderr",
     "output_type": "stream",
     "text": [
      "num_leaves, val_score: 0.503955:  30%|###       | 6/20 [00:08<00:17,  1.28s/it]\u001b[32m[I 2022-06-15 19:51:21,509]\u001b[0m Trial 12 finished with value: 0.5039554473420427 and parameters: {'num_leaves': 33}. Best is trial 12 with value: 0.5039554473420427.\u001b[0m\n",
      "num_leaves, val_score: 0.503955:  30%|###       | 6/20 [00:08<00:17,  1.28s/it]"
     ]
    },
    {
     "name": "stdout",
     "output_type": "stream",
     "text": [
      "Early stopping, best iteration is:\n",
      "[48]\tvalid_0's binary_logloss: 0.412586\tvalid_1's binary_logloss: 0.503955\n",
      "[LightGBM] [Info] Number of positive: 5073, number of negative: 18322\n",
      "[LightGBM] [Warning] Auto-choosing row-wise multi-threading, the overhead of testing was 0.008588 seconds.\n",
      "You can set `force_row_wise=true` to remove the overhead.\n",
      "And if memory is not enough, you can set `force_col_wise=true`.\n",
      "[LightGBM] [Info] Total Bins 29799\n",
      "[LightGBM] [Info] Number of data points in the train set: 23395, number of used features: 190\n",
      "[LightGBM] [Info] [binary:BoostFromScore]: pavg=0.216841 -> initscore=-1.284170\n",
      "[LightGBM] [Info] Start training from score -1.284170\n",
      "Training until validation scores don't improve for 10 rounds\n"
     ]
    },
    {
     "name": "stderr",
     "output_type": "stream",
     "text": [
      "num_leaves, val_score: 0.503955:  35%|###5      | 7/20 [00:10<00:19,  1.54s/it]\u001b[32m[I 2022-06-15 19:51:23,570]\u001b[0m Trial 13 finished with value: 0.5073003135319658 and parameters: {'num_leaves': 173}. Best is trial 12 with value: 0.5039554473420427.\u001b[0m\n",
      "num_leaves, val_score: 0.503955:  35%|###5      | 7/20 [00:10<00:19,  1.54s/it]"
     ]
    },
    {
     "name": "stdout",
     "output_type": "stream",
     "text": [
      "Early stopping, best iteration is:\n",
      "[23]\tvalid_0's binary_logloss: 0.34718\tvalid_1's binary_logloss: 0.5073\n",
      "[LightGBM] [Info] Number of positive: 5073, number of negative: 18322\n",
      "[LightGBM] [Warning] Auto-choosing row-wise multi-threading, the overhead of testing was 0.006184 seconds.\n",
      "You can set `force_row_wise=true` to remove the overhead.\n",
      "And if memory is not enough, you can set `force_col_wise=true`.\n",
      "[LightGBM] [Info] Total Bins 29799\n",
      "[LightGBM] [Info] Number of data points in the train set: 23395, number of used features: 190\n",
      "[LightGBM] [Info] [binary:BoostFromScore]: pavg=0.216841 -> initscore=-1.284170\n",
      "[LightGBM] [Info] Start training from score -1.284170\n",
      "Training until validation scores don't improve for 10 rounds\n"
     ]
    },
    {
     "name": "stderr",
     "output_type": "stream",
     "text": [
      "num_leaves, val_score: 0.503955:  40%|####      | 8/20 [00:13<00:22,  1.85s/it]\u001b[32m[I 2022-06-15 19:51:26,076]\u001b[0m Trial 14 finished with value: 0.5095885140070812 and parameters: {'num_leaves': 212}. Best is trial 12 with value: 0.5039554473420427.\u001b[0m\n",
      "num_leaves, val_score: 0.503955:  40%|####      | 8/20 [00:13<00:22,  1.85s/it]"
     ]
    },
    {
     "name": "stdout",
     "output_type": "stream",
     "text": [
      "Early stopping, best iteration is:\n",
      "[23]\tvalid_0's binary_logloss: 0.328356\tvalid_1's binary_logloss: 0.509589\n",
      "[LightGBM] [Info] Number of positive: 5073, number of negative: 18322\n",
      "[LightGBM] [Warning] Auto-choosing col-wise multi-threading, the overhead of testing was 0.011458 seconds.\n",
      "You can set `force_col_wise=true` to remove the overhead.\n",
      "[LightGBM] [Info] Total Bins 29799\n",
      "[LightGBM] [Info] Number of data points in the train set: 23395, number of used features: 190\n",
      "[LightGBM] [Info] [binary:BoostFromScore]: pavg=0.216841 -> initscore=-1.284170\n",
      "[LightGBM] [Info] Start training from score -1.284170\n",
      "Training until validation scores don't improve for 10 rounds\n"
     ]
    },
    {
     "name": "stderr",
     "output_type": "stream",
     "text": [
      "num_leaves, val_score: 0.503955:  45%|####5     | 9/20 [00:14<00:17,  1.59s/it]\u001b[32m[I 2022-06-15 19:51:27,110]\u001b[0m Trial 15 finished with value: 0.5059824179894833 and parameters: {'num_leaves': 36}. Best is trial 12 with value: 0.5039554473420427.\u001b[0m\n",
      "num_leaves, val_score: 0.503955:  45%|####5     | 9/20 [00:14<00:17,  1.59s/it]"
     ]
    },
    {
     "name": "stdout",
     "output_type": "stream",
     "text": [
      "Early stopping, best iteration is:\n",
      "[31]\tvalid_0's binary_logloss: 0.429678\tvalid_1's binary_logloss: 0.505982\n",
      "[LightGBM] [Info] Number of positive: 5073, number of negative: 18322\n",
      "[LightGBM] [Warning] Auto-choosing row-wise multi-threading, the overhead of testing was 0.005885 seconds.\n",
      "You can set `force_row_wise=true` to remove the overhead.\n",
      "And if memory is not enough, you can set `force_col_wise=true`.\n",
      "[LightGBM] [Info] Total Bins 29799\n",
      "[LightGBM] [Info] Number of data points in the train set: 23395, number of used features: 190\n",
      "[LightGBM] [Info] [binary:BoostFromScore]: pavg=0.216841 -> initscore=-1.284170\n",
      "[LightGBM] [Info] Start training from score -1.284170\n",
      "Training until validation scores don't improve for 10 rounds\n"
     ]
    },
    {
     "name": "stderr",
     "output_type": "stream",
     "text": [
      "num_leaves, val_score: 0.503955:  50%|#####     | 10/20 [00:16<00:16,  1.63s/it]\u001b[32m[I 2022-06-15 19:51:28,842]\u001b[0m Trial 16 finished with value: 0.5073008699714439 and parameters: {'num_leaves': 148}. Best is trial 12 with value: 0.5039554473420427.\u001b[0m\n",
      "num_leaves, val_score: 0.503955:  50%|#####     | 10/20 [00:16<00:16,  1.63s/it]"
     ]
    },
    {
     "name": "stdout",
     "output_type": "stream",
     "text": [
      "Early stopping, best iteration is:\n",
      "[20]\tvalid_0's binary_logloss: 0.372636\tvalid_1's binary_logloss: 0.507301\n",
      "[LightGBM] [Info] Number of positive: 5073, number of negative: 18322\n",
      "[LightGBM] [Warning] Auto-choosing row-wise multi-threading, the overhead of testing was 0.005780 seconds.\n",
      "You can set `force_row_wise=true` to remove the overhead.\n",
      "And if memory is not enough, you can set `force_col_wise=true`.\n",
      "[LightGBM] [Info] Total Bins 29799\n",
      "[LightGBM] [Info] Number of data points in the train set: 23395, number of used features: 190\n",
      "[LightGBM] [Info] [binary:BoostFromScore]: pavg=0.216841 -> initscore=-1.284170\n",
      "[LightGBM] [Info] Start training from score -1.284170\n",
      "Training until validation scores don't improve for 10 rounds\n"
     ]
    },
    {
     "name": "stderr",
     "output_type": "stream",
     "text": [
      "num_leaves, val_score: 0.503955:  55%|#####5    | 11/20 [00:17<00:13,  1.50s/it]\u001b[32m[I 2022-06-15 19:51:30,051]\u001b[0m Trial 17 finished with value: 0.5061225100914356 and parameters: {'num_leaves': 68}. Best is trial 12 with value: 0.5039554473420427.\u001b[0m\n",
      "num_leaves, val_score: 0.503955:  55%|#####5    | 11/20 [00:17<00:13,  1.50s/it]"
     ]
    },
    {
     "name": "stdout",
     "output_type": "stream",
     "text": [
      "Early stopping, best iteration is:\n",
      "[28]\tvalid_0's binary_logloss: 0.401441\tvalid_1's binary_logloss: 0.506123\n",
      "[LightGBM] [Info] Number of positive: 5073, number of negative: 18322\n",
      "[LightGBM] [Warning] Auto-choosing row-wise multi-threading, the overhead of testing was 0.007287 seconds.\n",
      "You can set `force_row_wise=true` to remove the overhead.\n",
      "And if memory is not enough, you can set `force_col_wise=true`.\n",
      "[LightGBM] [Info] Total Bins 29799\n",
      "[LightGBM] [Info] Number of data points in the train set: 23395, number of used features: 190\n",
      "[LightGBM] [Info] [binary:BoostFromScore]: pavg=0.216841 -> initscore=-1.284170\n",
      "[LightGBM] [Info] Start training from score -1.284170\n",
      "Training until validation scores don't improve for 10 rounds\n"
     ]
    },
    {
     "name": "stderr",
     "output_type": "stream",
     "text": [
      "num_leaves, val_score: 0.503955:  60%|######    | 12/20 [00:18<00:12,  1.50s/it]\u001b[32m[I 2022-06-15 19:51:31,547]\u001b[0m Trial 18 finished with value: 0.5043660182418483 and parameters: {'num_leaves': 77}. Best is trial 12 with value: 0.5039554473420427.\u001b[0m\n",
      "num_leaves, val_score: 0.503955:  60%|######    | 12/20 [00:18<00:12,  1.50s/it]"
     ]
    },
    {
     "name": "stdout",
     "output_type": "stream",
     "text": [
      "Early stopping, best iteration is:\n",
      "[30]\tvalid_0's binary_logloss: 0.388999\tvalid_1's binary_logloss: 0.504366\n",
      "[LightGBM] [Info] Number of positive: 5073, number of negative: 18322\n",
      "[LightGBM] [Warning] Auto-choosing row-wise multi-threading, the overhead of testing was 0.010142 seconds.\n",
      "You can set `force_row_wise=true` to remove the overhead.\n",
      "And if memory is not enough, you can set `force_col_wise=true`.\n",
      "[LightGBM] [Info] Total Bins 29799\n",
      "[LightGBM] [Info] Number of data points in the train set: 23395, number of used features: 190\n",
      "[LightGBM] [Info] [binary:BoostFromScore]: pavg=0.216841 -> initscore=-1.284170\n",
      "[LightGBM] [Info] Start training from score -1.284170\n",
      "Training until validation scores don't improve for 10 rounds\n"
     ]
    },
    {
     "name": "stderr",
     "output_type": "stream",
     "text": [
      "num_leaves, val_score: 0.503955:  65%|######5   | 13/20 [00:20<00:10,  1.45s/it]\u001b[32m[I 2022-06-15 19:51:32,887]\u001b[0m Trial 19 finished with value: 0.5068446653074331 and parameters: {'num_leaves': 80}. Best is trial 12 with value: 0.5039554473420427.\u001b[0m\n",
      "num_leaves, val_score: 0.503955:  65%|######5   | 13/20 [00:20<00:10,  1.45s/it]"
     ]
    },
    {
     "name": "stdout",
     "output_type": "stream",
     "text": [
      "Early stopping, best iteration is:\n",
      "[29]\tvalid_0's binary_logloss: 0.38888\tvalid_1's binary_logloss: 0.506845\n",
      "[LightGBM] [Info] Number of positive: 5073, number of negative: 18322\n",
      "[LightGBM] [Warning] Auto-choosing row-wise multi-threading, the overhead of testing was 0.005863 seconds.\n",
      "You can set `force_row_wise=true` to remove the overhead.\n",
      "And if memory is not enough, you can set `force_col_wise=true`.\n",
      "[LightGBM] [Info] Total Bins 29799\n",
      "[LightGBM] [Info] Number of data points in the train set: 23395, number of used features: 190\n",
      "[LightGBM] [Info] [binary:BoostFromScore]: pavg=0.216841 -> initscore=-1.284170\n",
      "[LightGBM] [Info] Start training from score -1.284170\n",
      "Training until validation scores don't improve for 10 rounds\n"
     ]
    },
    {
     "name": "stderr",
     "output_type": "stream",
     "text": [
      "num_leaves, val_score: 0.503955:  70%|#######   | 14/20 [00:20<00:07,  1.27s/it]\u001b[32m[I 2022-06-15 19:51:33,725]\u001b[0m Trial 20 finished with value: 0.5065737383480555 and parameters: {'num_leaves': 21}. Best is trial 12 with value: 0.5039554473420427.\u001b[0m\n",
      "num_leaves, val_score: 0.503955:  70%|#######   | 14/20 [00:20<00:07,  1.27s/it]"
     ]
    },
    {
     "name": "stdout",
     "output_type": "stream",
     "text": [
      "Early stopping, best iteration is:\n",
      "[51]\tvalid_0's binary_logloss: 0.432855\tvalid_1's binary_logloss: 0.506574\n",
      "[LightGBM] [Info] Number of positive: 5073, number of negative: 18322\n",
      "[LightGBM] [Warning] Auto-choosing col-wise multi-threading, the overhead of testing was 0.016261 seconds.\n",
      "You can set `force_col_wise=true` to remove the overhead.\n",
      "[LightGBM] [Info] Total Bins 29799\n",
      "[LightGBM] [Info] Number of data points in the train set: 23395, number of used features: 190\n",
      "[LightGBM] [Info] [binary:BoostFromScore]: pavg=0.216841 -> initscore=-1.284170\n",
      "[LightGBM] [Info] Start training from score -1.284170\n",
      "Training until validation scores don't improve for 10 rounds\n"
     ]
    },
    {
     "name": "stderr",
     "output_type": "stream",
     "text": [
      "num_leaves, val_score: 0.503955:  75%|#######5  | 15/20 [00:22<00:06,  1.21s/it]\u001b[32m[I 2022-06-15 19:51:34,811]\u001b[0m Trial 21 finished with value: 0.5048022611455748 and parameters: {'num_leaves': 38}. Best is trial 12 with value: 0.5039554473420427.\u001b[0m\n",
      "num_leaves, val_score: 0.503955:  75%|#######5  | 15/20 [00:22<00:06,  1.21s/it]"
     ]
    },
    {
     "name": "stdout",
     "output_type": "stream",
     "text": [
      "Early stopping, best iteration is:\n",
      "[33]\tvalid_0's binary_logloss: 0.424164\tvalid_1's binary_logloss: 0.504802\n",
      "[LightGBM] [Info] Number of positive: 5073, number of negative: 18322\n",
      "[LightGBM] [Warning] Auto-choosing row-wise multi-threading, the overhead of testing was 0.008132 seconds.\n",
      "You can set `force_row_wise=true` to remove the overhead.\n",
      "And if memory is not enough, you can set `force_col_wise=true`.\n",
      "[LightGBM] [Info] Total Bins 29799\n",
      "[LightGBM] [Info] Number of data points in the train set: 23395, number of used features: 190\n",
      "[LightGBM] [Info] [binary:BoostFromScore]: pavg=0.216841 -> initscore=-1.284170\n",
      "[LightGBM] [Info] Start training from score -1.284170\n",
      "Training until validation scores don't improve for 10 rounds\n"
     ]
    },
    {
     "name": "stderr",
     "output_type": "stream",
     "text": [
      "num_leaves, val_score: 0.503955:  80%|########  | 16/20 [00:23<00:05,  1.31s/it]\u001b[32m[I 2022-06-15 19:51:36,360]\u001b[0m Trial 22 finished with value: 0.5041451177883742 and parameters: {'num_leaves': 104}. Best is trial 12 with value: 0.5039554473420427.\u001b[0m\n",
      "num_leaves, val_score: 0.503955:  80%|########  | 16/20 [00:23<00:05,  1.31s/it]"
     ]
    },
    {
     "name": "stdout",
     "output_type": "stream",
     "text": [
      "Early stopping, best iteration is:\n",
      "[26]\tvalid_0's binary_logloss: 0.377313\tvalid_1's binary_logloss: 0.504145\n",
      "[LightGBM] [Info] Number of positive: 5073, number of negative: 18322\n",
      "[LightGBM] [Warning] Auto-choosing row-wise multi-threading, the overhead of testing was 0.005652 seconds.\n",
      "You can set `force_row_wise=true` to remove the overhead.\n",
      "And if memory is not enough, you can set `force_col_wise=true`.\n",
      "[LightGBM] [Info] Total Bins 29799\n",
      "[LightGBM] [Info] Number of data points in the train set: 23395, number of used features: 190\n",
      "[LightGBM] [Info] [binary:BoostFromScore]: pavg=0.216841 -> initscore=-1.284170\n",
      "[LightGBM] [Info] Start training from score -1.284170\n",
      "Training until validation scores don't improve for 10 rounds\n"
     ]
    },
    {
     "name": "stderr",
     "output_type": "stream",
     "text": [
      "num_leaves, val_score: 0.503955:  85%|########5 | 17/20 [00:25<00:04,  1.37s/it]\u001b[32m[I 2022-06-15 19:51:37,857]\u001b[0m Trial 23 finished with value: 0.5040454576591621 and parameters: {'num_leaves': 106}. Best is trial 12 with value: 0.5039554473420427.\u001b[0m\n",
      "num_leaves, val_score: 0.503955:  85%|########5 | 17/20 [00:25<00:04,  1.37s/it]"
     ]
    },
    {
     "name": "stdout",
     "output_type": "stream",
     "text": [
      "Early stopping, best iteration is:\n",
      "[26]\tvalid_0's binary_logloss: 0.377121\tvalid_1's binary_logloss: 0.504045\n",
      "[LightGBM] [Info] Number of positive: 5073, number of negative: 18322\n",
      "[LightGBM] [Warning] Auto-choosing row-wise multi-threading, the overhead of testing was 0.005600 seconds.\n",
      "You can set `force_row_wise=true` to remove the overhead.\n",
      "And if memory is not enough, you can set `force_col_wise=true`.\n",
      "[LightGBM] [Info] Total Bins 29799\n",
      "[LightGBM] [Info] Number of data points in the train set: 23395, number of used features: 190\n",
      "[LightGBM] [Info] [binary:BoostFromScore]: pavg=0.216841 -> initscore=-1.284170\n",
      "[LightGBM] [Info] Start training from score -1.284170\n",
      "Training until validation scores don't improve for 10 rounds\n"
     ]
    },
    {
     "name": "stderr",
     "output_type": "stream",
     "text": [
      "num_leaves, val_score: 0.503955:  90%|######### | 18/20 [00:27<00:03,  1.53s/it]\u001b[32m[I 2022-06-15 19:51:39,766]\u001b[0m Trial 24 finished with value: 0.5085796534510484 and parameters: {'num_leaves': 240}. Best is trial 12 with value: 0.5039554473420427.\u001b[0m\n",
      "num_leaves, val_score: 0.503955:  90%|######### | 18/20 [00:27<00:03,  1.53s/it]"
     ]
    },
    {
     "name": "stdout",
     "output_type": "stream",
     "text": [
      "Early stopping, best iteration is:\n",
      "[18]\tvalid_0's binary_logloss: 0.34301\tvalid_1's binary_logloss: 0.50858\n",
      "[LightGBM] [Info] Number of positive: 5073, number of negative: 18322\n",
      "[LightGBM] [Warning] Auto-choosing col-wise multi-threading, the overhead of testing was 0.013514 seconds.\n",
      "You can set `force_col_wise=true` to remove the overhead.\n",
      "[LightGBM] [Info] Total Bins 29799\n",
      "[LightGBM] [Info] Number of data points in the train set: 23395, number of used features: 190\n",
      "[LightGBM] [Info] [binary:BoostFromScore]: pavg=0.216841 -> initscore=-1.284170\n",
      "[LightGBM] [Info] Start training from score -1.284170\n",
      "Training until validation scores don't improve for 10 rounds\n"
     ]
    },
    {
     "name": "stderr",
     "output_type": "stream",
     "text": [
      "num_leaves, val_score: 0.503955:  95%|#########5| 19/20 [00:28<00:01,  1.54s/it]\u001b[32m[I 2022-06-15 19:51:41,315]\u001b[0m Trial 25 finished with value: 0.5059223499476487 and parameters: {'num_leaves': 174}. Best is trial 12 with value: 0.5039554473420427.\u001b[0m\n",
      "num_leaves, val_score: 0.503955:  95%|#########5| 19/20 [00:28<00:01,  1.54s/it]"
     ]
    },
    {
     "name": "stdout",
     "output_type": "stream",
     "text": [
      "Early stopping, best iteration is:\n",
      "[22]\tvalid_0's binary_logloss: 0.350957\tvalid_1's binary_logloss: 0.505922\n",
      "[LightGBM] [Info] Number of positive: 5073, number of negative: 18322\n",
      "[LightGBM] [Warning] Auto-choosing row-wise multi-threading, the overhead of testing was 0.009923 seconds.\n",
      "You can set `force_row_wise=true` to remove the overhead.\n",
      "And if memory is not enough, you can set `force_col_wise=true`.\n",
      "[LightGBM] [Info] Total Bins 29799\n",
      "[LightGBM] [Info] Number of data points in the train set: 23395, number of used features: 190\n",
      "[LightGBM] [Info] [binary:BoostFromScore]: pavg=0.216841 -> initscore=-1.284170\n",
      "[LightGBM] [Info] Start training from score -1.284170\n",
      "Training until validation scores don't improve for 10 rounds\n"
     ]
    },
    {
     "name": "stderr",
     "output_type": "stream",
     "text": [
      "num_leaves, val_score: 0.503955: 100%|##########| 20/20 [00:30<00:00,  1.53s/it]\u001b[32m[I 2022-06-15 19:51:42,815]\u001b[0m Trial 26 finished with value: 0.5061952351657633 and parameters: {'num_leaves': 110}. Best is trial 12 with value: 0.5039554473420427.\u001b[0m\n",
      "num_leaves, val_score: 0.503955: 100%|##########| 20/20 [00:30<00:00,  1.50s/it]\n"
     ]
    },
    {
     "name": "stdout",
     "output_type": "stream",
     "text": [
      "Early stopping, best iteration is:\n",
      "[28]\tvalid_0's binary_logloss: 0.367983\tvalid_1's binary_logloss: 0.506195\n"
     ]
    },
    {
     "name": "stderr",
     "output_type": "stream",
     "text": [
      "bagging, val_score: 0.503955:   0%|          | 0/10 [00:00<?, ?it/s]"
     ]
    },
    {
     "name": "stdout",
     "output_type": "stream",
     "text": [
      "[LightGBM] [Info] Number of positive: 5073, number of negative: 18322\n",
      "[LightGBM] [Warning] Auto-choosing row-wise multi-threading, the overhead of testing was 0.008562 seconds.\n",
      "You can set `force_row_wise=true` to remove the overhead.\n",
      "And if memory is not enough, you can set `force_col_wise=true`.\n",
      "[LightGBM] [Info] Total Bins 29799\n",
      "[LightGBM] [Info] Number of data points in the train set: 23395, number of used features: 190\n",
      "[LightGBM] [Info] [binary:BoostFromScore]: pavg=0.216841 -> initscore=-1.284170\n",
      "[LightGBM] [Info] Start training from score -1.284170\n",
      "Training until validation scores don't improve for 10 rounds\n"
     ]
    },
    {
     "name": "stderr",
     "output_type": "stream",
     "text": [
      "bagging, val_score: 0.503955:  10%|#         | 1/10 [00:00<00:08,  1.07it/s]\u001b[32m[I 2022-06-15 19:51:43,757]\u001b[0m Trial 27 finished with value: 0.5075924532369387 and parameters: {'bagging_fraction': 0.7260429650751228, 'bagging_freq': 2}. Best is trial 27 with value: 0.5075924532369387.\u001b[0m\n",
      "bagging, val_score: 0.503955:  10%|#         | 1/10 [00:00<00:08,  1.07it/s]"
     ]
    },
    {
     "name": "stdout",
     "output_type": "stream",
     "text": [
      "Early stopping, best iteration is:\n",
      "[43]\tvalid_0's binary_logloss: 0.419583\tvalid_1's binary_logloss: 0.507592\n",
      "[LightGBM] [Info] Number of positive: 5073, number of negative: 18322\n",
      "[LightGBM] [Warning] Auto-choosing row-wise multi-threading, the overhead of testing was 0.008442 seconds.\n",
      "You can set `force_row_wise=true` to remove the overhead.\n",
      "And if memory is not enough, you can set `force_col_wise=true`.\n",
      "[LightGBM] [Info] Total Bins 29799\n",
      "[LightGBM] [Info] Number of data points in the train set: 23395, number of used features: 190\n",
      "[LightGBM] [Info] [binary:BoostFromScore]: pavg=0.216841 -> initscore=-1.284170\n",
      "[LightGBM] [Info] Start training from score -1.284170\n",
      "Training until validation scores don't improve for 10 rounds\n"
     ]
    },
    {
     "name": "stderr",
     "output_type": "stream",
     "text": [
      "bagging, val_score: 0.503955:  20%|##        | 2/10 [00:01<00:06,  1.27it/s]\u001b[32m[I 2022-06-15 19:51:44,443]\u001b[0m Trial 28 finished with value: 0.5087337526397183 and parameters: {'bagging_fraction': 0.6547105544499044, 'bagging_freq': 6}. Best is trial 27 with value: 0.5075924532369387.\u001b[0m\n",
      "bagging, val_score: 0.503955:  20%|##        | 2/10 [00:01<00:06,  1.27it/s]"
     ]
    },
    {
     "name": "stdout",
     "output_type": "stream",
     "text": [
      "Early stopping, best iteration is:\n",
      "[24]\tvalid_0's binary_logloss: 0.445425\tvalid_1's binary_logloss: 0.508734\n",
      "[LightGBM] [Info] Number of positive: 5073, number of negative: 18322\n",
      "[LightGBM] [Warning] Auto-choosing row-wise multi-threading, the overhead of testing was 0.007395 seconds.\n",
      "You can set `force_row_wise=true` to remove the overhead.\n",
      "And if memory is not enough, you can set `force_col_wise=true`.\n",
      "[LightGBM] [Info] Total Bins 29799\n",
      "[LightGBM] [Info] Number of data points in the train set: 23395, number of used features: 190\n",
      "[LightGBM] [Info] [binary:BoostFromScore]: pavg=0.216841 -> initscore=-1.284170\n",
      "[LightGBM] [Info] Start training from score -1.284170\n",
      "Training until validation scores don't improve for 10 rounds\n"
     ]
    },
    {
     "name": "stderr",
     "output_type": "stream",
     "text": [
      "bagging, val_score: 0.503955:  30%|###       | 3/10 [00:03<00:07,  1.09s/it]\u001b[32m[I 2022-06-15 19:51:45,897]\u001b[0m Trial 29 finished with value: 0.5109734384304837 and parameters: {'bagging_fraction': 0.4028313137145883, 'bagging_freq': 1}. Best is trial 27 with value: 0.5075924532369387.\u001b[0m\n",
      "bagging, val_score: 0.503955:  30%|###       | 3/10 [00:03<00:07,  1.09s/it]"
     ]
    },
    {
     "name": "stdout",
     "output_type": "stream",
     "text": [
      "Early stopping, best iteration is:\n",
      "[49]\tvalid_0's binary_logloss: 0.415971\tvalid_1's binary_logloss: 0.510973\n",
      "[LightGBM] [Info] Number of positive: 5073, number of negative: 18322\n",
      "[LightGBM] [Warning] Auto-choosing row-wise multi-threading, the overhead of testing was 0.006251 seconds.\n",
      "You can set `force_row_wise=true` to remove the overhead.\n",
      "And if memory is not enough, you can set `force_col_wise=true`.\n",
      "[LightGBM] [Info] Total Bins 29799\n",
      "[LightGBM] [Info] Number of data points in the train set: 23395, number of used features: 190\n",
      "[LightGBM] [Info] [binary:BoostFromScore]: pavg=0.216841 -> initscore=-1.284170\n",
      "[LightGBM] [Info] Start training from score -1.284170\n",
      "Training until validation scores don't improve for 10 rounds\n"
     ]
    },
    {
     "name": "stderr",
     "output_type": "stream",
     "text": [
      "bagging, val_score: 0.503955:  40%|####      | 4/10 [00:04<00:06,  1.13s/it]\u001b[32m[I 2022-06-15 19:51:47,074]\u001b[0m Trial 30 finished with value: 0.5072783965355617 and parameters: {'bagging_fraction': 0.802449450836738, 'bagging_freq': 6}. Best is trial 30 with value: 0.5072783965355617.\u001b[0m\n",
      "bagging, val_score: 0.503955:  40%|####      | 4/10 [00:04<00:06,  1.13s/it]"
     ]
    },
    {
     "name": "stdout",
     "output_type": "stream",
     "text": [
      "Early stopping, best iteration is:\n",
      "[42]\tvalid_0's binary_logloss: 0.420739\tvalid_1's binary_logloss: 0.507278\n",
      "[LightGBM] [Info] Number of positive: 5073, number of negative: 18322\n",
      "[LightGBM] [Warning] Auto-choosing row-wise multi-threading, the overhead of testing was 0.006164 seconds.\n",
      "You can set `force_row_wise=true` to remove the overhead.\n",
      "And if memory is not enough, you can set `force_col_wise=true`.\n",
      "[LightGBM] [Info] Total Bins 29799\n",
      "[LightGBM] [Info] Number of data points in the train set: 23395, number of used features: 190\n",
      "[LightGBM] [Info] [binary:BoostFromScore]: pavg=0.216841 -> initscore=-1.284170\n",
      "[LightGBM] [Info] Start training from score -1.284170\n",
      "Training until validation scores don't improve for 10 rounds\n"
     ]
    },
    {
     "name": "stderr",
     "output_type": "stream",
     "text": [
      "bagging, val_score: 0.503955:  50%|#####     | 5/10 [00:04<00:04,  1.01it/s]\u001b[32m[I 2022-06-15 19:51:47,819]\u001b[0m Trial 31 finished with value: 0.5084108036854017 and parameters: {'bagging_fraction': 0.4820239538111085, 'bagging_freq': 5}. Best is trial 30 with value: 0.5072783965355617.\u001b[0m\n",
      "bagging, val_score: 0.503955:  50%|#####     | 5/10 [00:05<00:04,  1.01it/s]"
     ]
    },
    {
     "name": "stdout",
     "output_type": "stream",
     "text": [
      "Early stopping, best iteration is:\n",
      "[22]\tvalid_0's binary_logloss: 0.450174\tvalid_1's binary_logloss: 0.508411\n",
      "[LightGBM] [Info] Number of positive: 5073, number of negative: 18322\n",
      "[LightGBM] [Warning] Auto-choosing col-wise multi-threading, the overhead of testing was 0.021927 seconds.\n",
      "You can set `force_col_wise=true` to remove the overhead.\n",
      "[LightGBM] [Info] Total Bins 29799\n",
      "[LightGBM] [Info] Number of data points in the train set: 23395, number of used features: 190\n",
      "[LightGBM] [Info] [binary:BoostFromScore]: pavg=0.216841 -> initscore=-1.284170\n",
      "[LightGBM] [Info] Start training from score -1.284170\n",
      "Training until validation scores don't improve for 10 rounds\n"
     ]
    },
    {
     "name": "stderr",
     "output_type": "stream",
     "text": [
      "bagging, val_score: 0.503955:  60%|######    | 6/10 [00:06<00:04,  1.05s/it]\u001b[32m[I 2022-06-15 19:51:48,977]\u001b[0m Trial 32 finished with value: 0.5057416460926749 and parameters: {'bagging_fraction': 0.9347931725882498, 'bagging_freq': 2}. Best is trial 32 with value: 0.5057416460926749.\u001b[0m\n",
      "bagging, val_score: 0.503955:  60%|######    | 6/10 [00:06<00:04,  1.05s/it]"
     ]
    },
    {
     "name": "stdout",
     "output_type": "stream",
     "text": [
      "Early stopping, best iteration is:\n",
      "[44]\tvalid_0's binary_logloss: 0.416891\tvalid_1's binary_logloss: 0.505742\n",
      "[LightGBM] [Info] Number of positive: 5073, number of negative: 18322\n",
      "[LightGBM] [Warning] Auto-choosing row-wise multi-threading, the overhead of testing was 0.007949 seconds.\n",
      "You can set `force_row_wise=true` to remove the overhead.\n",
      "And if memory is not enough, you can set `force_col_wise=true`.\n",
      "[LightGBM] [Info] Total Bins 29799\n",
      "[LightGBM] [Info] Number of data points in the train set: 23395, number of used features: 190\n",
      "[LightGBM] [Info] [binary:BoostFromScore]: pavg=0.216841 -> initscore=-1.284170\n",
      "[LightGBM] [Info] Start training from score -1.284170\n",
      "Training until validation scores don't improve for 10 rounds\n"
     ]
    },
    {
     "name": "stderr",
     "output_type": "stream",
     "text": [
      "bagging, val_score: 0.503955:  70%|#######   | 7/10 [00:06<00:02,  1.11it/s]\u001b[32m[I 2022-06-15 19:51:49,589]\u001b[0m Trial 33 finished with value: 0.5121696242895833 and parameters: {'bagging_fraction': 0.5111969317302304, 'bagging_freq': 1}. Best is trial 32 with value: 0.5057416460926749.\u001b[0m\n",
      "bagging, val_score: 0.503955:  70%|#######   | 7/10 [00:06<00:02,  1.11it/s]"
     ]
    },
    {
     "name": "stdout",
     "output_type": "stream",
     "text": [
      "Early stopping, best iteration is:\n",
      "[16]\tvalid_0's binary_logloss: 0.459349\tvalid_1's binary_logloss: 0.51217\n",
      "[LightGBM] [Info] Number of positive: 5073, number of negative: 18322\n",
      "[LightGBM] [Warning] Auto-choosing row-wise multi-threading, the overhead of testing was 0.006771 seconds.\n",
      "You can set `force_row_wise=true` to remove the overhead.\n",
      "And if memory is not enough, you can set `force_col_wise=true`.\n",
      "[LightGBM] [Info] Total Bins 29799\n",
      "[LightGBM] [Info] Number of data points in the train set: 23395, number of used features: 190\n",
      "[LightGBM] [Info] [binary:BoostFromScore]: pavg=0.216841 -> initscore=-1.284170\n",
      "[LightGBM] [Info] Start training from score -1.284170\n",
      "Training until validation scores don't improve for 10 rounds\n"
     ]
    },
    {
     "name": "stderr",
     "output_type": "stream",
     "text": [
      "bagging, val_score: 0.503955:  80%|########  | 8/10 [00:07<00:01,  1.16it/s]\u001b[32m[I 2022-06-15 19:51:50,367]\u001b[0m Trial 34 finished with value: 0.509179502908138 and parameters: {'bagging_fraction': 0.531818495575215, 'bagging_freq': 7}. Best is trial 32 with value: 0.5057416460926749.\u001b[0m\n",
      "bagging, val_score: 0.503955:  80%|########  | 8/10 [00:07<00:01,  1.16it/s]"
     ]
    },
    {
     "name": "stdout",
     "output_type": "stream",
     "text": [
      "Early stopping, best iteration is:\n",
      "[29]\tvalid_0's binary_logloss: 0.440933\tvalid_1's binary_logloss: 0.50918\n",
      "[LightGBM] [Info] Number of positive: 5073, number of negative: 18322\n",
      "[LightGBM] [Warning] Auto-choosing row-wise multi-threading, the overhead of testing was 0.005832 seconds.\n",
      "You can set `force_row_wise=true` to remove the overhead.\n",
      "And if memory is not enough, you can set `force_col_wise=true`.\n",
      "[LightGBM] [Info] Total Bins 29799\n",
      "[LightGBM] [Info] Number of data points in the train set: 23395, number of used features: 190\n",
      "[LightGBM] [Info] [binary:BoostFromScore]: pavg=0.216841 -> initscore=-1.284170\n",
      "[LightGBM] [Info] Start training from score -1.284170\n",
      "Training until validation scores don't improve for 10 rounds\n"
     ]
    },
    {
     "name": "stderr",
     "output_type": "stream",
     "text": [
      "bagging, val_score: 0.503955:  90%|######### | 9/10 [00:08<00:00,  1.03it/s]\u001b[32m[I 2022-06-15 19:51:51,572]\u001b[0m Trial 35 finished with value: 0.5057130999753339 and parameters: {'bagging_fraction': 0.8870098894544057, 'bagging_freq': 2}. Best is trial 35 with value: 0.5057130999753339.\u001b[0m\n",
      "bagging, val_score: 0.503955:  90%|######### | 9/10 [00:08<00:00,  1.03it/s]"
     ]
    },
    {
     "name": "stdout",
     "output_type": "stream",
     "text": [
      "Early stopping, best iteration is:\n",
      "[44]\tvalid_0's binary_logloss: 0.41759\tvalid_1's binary_logloss: 0.505713\n",
      "[LightGBM] [Info] Number of positive: 5073, number of negative: 18322\n",
      "[LightGBM] [Warning] Auto-choosing col-wise multi-threading, the overhead of testing was 0.012650 seconds.\n",
      "You can set `force_col_wise=true` to remove the overhead.\n",
      "[LightGBM] [Info] Total Bins 29799\n",
      "[LightGBM] [Info] Number of data points in the train set: 23395, number of used features: 190\n",
      "[LightGBM] [Info] [binary:BoostFromScore]: pavg=0.216841 -> initscore=-1.284170\n",
      "[LightGBM] [Info] Start training from score -1.284170\n",
      "Training until validation scores don't improve for 10 rounds\n"
     ]
    },
    {
     "name": "stderr",
     "output_type": "stream",
     "text": [
      "bagging, val_score: 0.503955: 100%|##########| 10/10 [00:09<00:00,  1.02it/s]\u001b[32m[I 2022-06-15 19:51:52,582]\u001b[0m Trial 36 finished with value: 0.5062516914078315 and parameters: {'bagging_fraction': 0.8897348492363203, 'bagging_freq': 2}. Best is trial 35 with value: 0.5057130999753339.\u001b[0m\n",
      "bagging, val_score: 0.503955: 100%|##########| 10/10 [00:09<00:00,  1.02it/s]\n"
     ]
    },
    {
     "name": "stdout",
     "output_type": "stream",
     "text": [
      "Early stopping, best iteration is:\n",
      "[42]\tvalid_0's binary_logloss: 0.420125\tvalid_1's binary_logloss: 0.506252\n"
     ]
    },
    {
     "name": "stderr",
     "output_type": "stream",
     "text": [
      "feature_fraction_stage2, val_score: 0.503955:   0%|          | 0/6 [00:00<?, ?it/s]"
     ]
    },
    {
     "name": "stdout",
     "output_type": "stream",
     "text": [
      "[LightGBM] [Info] Number of positive: 5073, number of negative: 18322\n",
      "[LightGBM] [Warning] Auto-choosing row-wise multi-threading, the overhead of testing was 0.005542 seconds.\n",
      "You can set `force_row_wise=true` to remove the overhead.\n",
      "And if memory is not enough, you can set `force_col_wise=true`.\n",
      "[LightGBM] [Info] Total Bins 29799\n",
      "[LightGBM] [Info] Number of data points in the train set: 23395, number of used features: 190\n",
      "[LightGBM] [Info] [binary:BoostFromScore]: pavg=0.216841 -> initscore=-1.284170\n",
      "[LightGBM] [Info] Start training from score -1.284170\n",
      "Training until validation scores don't improve for 10 rounds\n"
     ]
    },
    {
     "name": "stderr",
     "output_type": "stream",
     "text": [
      "feature_fraction_stage2, val_score: 0.503955:  17%|#6        | 1/6 [00:00<00:04,  1.02it/s]\u001b[32m[I 2022-06-15 19:51:53,567]\u001b[0m Trial 37 finished with value: 0.504867523998182 and parameters: {'feature_fraction': 0.9159999999999999}. Best is trial 37 with value: 0.504867523998182.\u001b[0m\n",
      "feature_fraction_stage2, val_score: 0.503955:  17%|#6        | 1/6 [00:00<00:04,  1.02it/s]"
     ]
    },
    {
     "name": "stdout",
     "output_type": "stream",
     "text": [
      "Early stopping, best iteration is:\n",
      "[45]\tvalid_0's binary_logloss: 0.417382\tvalid_1's binary_logloss: 0.504868\n",
      "[LightGBM] [Info] Number of positive: 5073, number of negative: 18322\n",
      "[LightGBM] [Warning] Auto-choosing row-wise multi-threading, the overhead of testing was 0.005762 seconds.\n",
      "You can set `force_row_wise=true` to remove the overhead.\n",
      "And if memory is not enough, you can set `force_col_wise=true`.\n",
      "[LightGBM] [Info] Total Bins 29799\n",
      "[LightGBM] [Info] Number of data points in the train set: 23395, number of used features: 190\n",
      "[LightGBM] [Info] [binary:BoostFromScore]: pavg=0.216841 -> initscore=-1.284170\n",
      "[LightGBM] [Info] Start training from score -1.284170\n",
      "Training until validation scores don't improve for 10 rounds\n"
     ]
    },
    {
     "name": "stderr",
     "output_type": "stream",
     "text": [
      "feature_fraction_stage2, val_score: 0.503955:  33%|###3      | 2/6 [00:01<00:03,  1.06it/s]\u001b[32m[I 2022-06-15 19:51:54,481]\u001b[0m Trial 38 finished with value: 0.5061776753569179 and parameters: {'feature_fraction': 0.9799999999999999}. Best is trial 37 with value: 0.504867523998182.\u001b[0m\n",
      "feature_fraction_stage2, val_score: 0.503955:  33%|###3      | 2/6 [00:01<00:03,  1.06it/s]"
     ]
    },
    {
     "name": "stdout",
     "output_type": "stream",
     "text": [
      "Early stopping, best iteration is:\n",
      "[42]\tvalid_0's binary_logloss: 0.419383\tvalid_1's binary_logloss: 0.506178\n",
      "[LightGBM] [Info] Number of positive: 5073, number of negative: 18322\n",
      "[LightGBM] [Warning] Auto-choosing row-wise multi-threading, the overhead of testing was 0.006550 seconds.\n",
      "You can set `force_row_wise=true` to remove the overhead.\n",
      "And if memory is not enough, you can set `force_col_wise=true`.\n",
      "[LightGBM] [Info] Total Bins 29799\n",
      "[LightGBM] [Info] Number of data points in the train set: 23395, number of used features: 190\n",
      "[LightGBM] [Info] [binary:BoostFromScore]: pavg=0.216841 -> initscore=-1.284170\n",
      "[LightGBM] [Info] Start training from score -1.284170\n",
      "Training until validation scores don't improve for 10 rounds\n"
     ]
    },
    {
     "name": "stderr",
     "output_type": "stream",
     "text": [
      "feature_fraction_stage2, val_score: 0.503955:  50%|#####     | 3/6 [00:02<00:03,  1.01s/it]\u001b[32m[I 2022-06-15 19:51:55,576]\u001b[0m Trial 39 finished with value: 0.5044153200216795 and parameters: {'feature_fraction': 0.82}. Best is trial 39 with value: 0.5044153200216795.\u001b[0m\n",
      "feature_fraction_stage2, val_score: 0.503955:  50%|#####     | 3/6 [00:02<00:03,  1.01s/it]"
     ]
    },
    {
     "name": "stdout",
     "output_type": "stream",
     "text": [
      "Early stopping, best iteration is:\n",
      "[55]\tvalid_0's binary_logloss: 0.40693\tvalid_1's binary_logloss: 0.504415\n",
      "[LightGBM] [Info] Number of positive: 5073, number of negative: 18322\n",
      "[LightGBM] [Warning] Auto-choosing row-wise multi-threading, the overhead of testing was 0.007237 seconds.\n",
      "You can set `force_row_wise=true` to remove the overhead.\n",
      "And if memory is not enough, you can set `force_col_wise=true`.\n",
      "[LightGBM] [Info] Total Bins 29799\n",
      "[LightGBM] [Info] Number of data points in the train set: 23395, number of used features: 190\n",
      "[LightGBM] [Info] [binary:BoostFromScore]: pavg=0.216841 -> initscore=-1.284170\n",
      "[LightGBM] [Info] Start training from score -1.284170\n",
      "Training until validation scores don't improve for 10 rounds\n"
     ]
    },
    {
     "name": "stderr",
     "output_type": "stream",
     "text": [
      "feature_fraction_stage2, val_score: 0.503955:  67%|######6   | 4/6 [00:03<00:01,  1.07it/s]\u001b[32m[I 2022-06-15 19:51:56,395]\u001b[0m Trial 40 finished with value: 0.5052470159972786 and parameters: {'feature_fraction': 0.852}. Best is trial 39 with value: 0.5044153200216795.\u001b[0m\n",
      "feature_fraction_stage2, val_score: 0.503955:  67%|######6   | 4/6 [00:03<00:01,  1.07it/s]"
     ]
    },
    {
     "name": "stdout",
     "output_type": "stream",
     "text": [
      "Early stopping, best iteration is:\n",
      "[32]\tvalid_0's binary_logloss: 0.433\tvalid_1's binary_logloss: 0.505247\n",
      "[LightGBM] [Info] Number of positive: 5073, number of negative: 18322\n",
      "[LightGBM] [Warning] Auto-choosing row-wise multi-threading, the overhead of testing was 0.006313 seconds.\n",
      "You can set `force_row_wise=true` to remove the overhead.\n",
      "And if memory is not enough, you can set `force_col_wise=true`.\n",
      "[LightGBM] [Info] Total Bins 29799\n",
      "[LightGBM] [Info] Number of data points in the train set: 23395, number of used features: 190\n",
      "[LightGBM] [Info] [binary:BoostFromScore]: pavg=0.216841 -> initscore=-1.284170\n",
      "[LightGBM] [Info] Start training from score -1.284170\n",
      "Training until validation scores don't improve for 10 rounds\n"
     ]
    },
    {
     "name": "stderr",
     "output_type": "stream",
     "text": [
      "feature_fraction_stage2, val_score: 0.503955:  83%|########3 | 5/6 [00:04<00:00,  1.00it/s]\u001b[32m[I 2022-06-15 19:51:57,496]\u001b[0m Trial 41 finished with value: 0.5053108168614331 and parameters: {'feature_fraction': 0.948}. Best is trial 39 with value: 0.5044153200216795.\u001b[0m\n",
      "feature_fraction_stage2, val_score: 0.503955:  83%|########3 | 5/6 [00:04<00:00,  1.00it/s]"
     ]
    },
    {
     "name": "stdout",
     "output_type": "stream",
     "text": [
      "Early stopping, best iteration is:\n",
      "[48]\tvalid_0's binary_logloss: 0.412987\tvalid_1's binary_logloss: 0.505311\n",
      "[LightGBM] [Info] Number of positive: 5073, number of negative: 18322\n",
      "[LightGBM] [Warning] Auto-choosing row-wise multi-threading, the overhead of testing was 0.012080 seconds.\n",
      "You can set `force_row_wise=true` to remove the overhead.\n",
      "And if memory is not enough, you can set `force_col_wise=true`.\n",
      "[LightGBM] [Info] Total Bins 29799\n",
      "[LightGBM] [Info] Number of data points in the train set: 23395, number of used features: 190\n",
      "[LightGBM] [Info] [binary:BoostFromScore]: pavg=0.216841 -> initscore=-1.284170\n",
      "[LightGBM] [Info] Start training from score -1.284170\n",
      "Training until validation scores don't improve for 10 rounds\n"
     ]
    },
    {
     "name": "stderr",
     "output_type": "stream",
     "text": [
      "feature_fraction_stage2, val_score: 0.503955: 100%|##########| 6/6 [00:06<00:00,  1.05s/it]\u001b[32m[I 2022-06-15 19:51:58,657]\u001b[0m Trial 42 finished with value: 0.5062088268060526 and parameters: {'feature_fraction': 0.8839999999999999}. Best is trial 39 with value: 0.5044153200216795.\u001b[0m\n",
      "feature_fraction_stage2, val_score: 0.503955: 100%|##########| 6/6 [00:06<00:00,  1.01s/it]\n"
     ]
    },
    {
     "name": "stdout",
     "output_type": "stream",
     "text": [
      "Early stopping, best iteration is:\n",
      "[44]\tvalid_0's binary_logloss: 0.417529\tvalid_1's binary_logloss: 0.506209\n"
     ]
    },
    {
     "name": "stderr",
     "output_type": "stream",
     "text": [
      "regularization_factors, val_score: 0.503955:   0%|          | 0/20 [00:00<?, ?it/s]"
     ]
    },
    {
     "name": "stdout",
     "output_type": "stream",
     "text": [
      "[LightGBM] [Info] Number of positive: 5073, number of negative: 18322\n",
      "[LightGBM] [Warning] Auto-choosing row-wise multi-threading, the overhead of testing was 0.006697 seconds.\n",
      "You can set `force_row_wise=true` to remove the overhead.\n",
      "And if memory is not enough, you can set `force_col_wise=true`.\n",
      "[LightGBM] [Info] Total Bins 29799\n",
      "[LightGBM] [Info] Number of data points in the train set: 23395, number of used features: 190\n",
      "[LightGBM] [Info] [binary:BoostFromScore]: pavg=0.216841 -> initscore=-1.284170\n",
      "[LightGBM] [Info] Start training from score -1.284170\n",
      "Training until validation scores don't improve for 10 rounds\n"
     ]
    },
    {
     "name": "stderr",
     "output_type": "stream",
     "text": [
      "regularization_factors, val_score: 0.503935:   5%|5         | 1/20 [00:01<00:24,  1.27s/it]\u001b[32m[I 2022-06-15 19:51:59,935]\u001b[0m Trial 43 finished with value: 0.5039354499064054 and parameters: {'lambda_l1': 0.0007773998922821829, 'lambda_l2': 3.2012859298995277e-06}. Best is trial 43 with value: 0.5039354499064054.\u001b[0m\n",
      "regularization_factors, val_score: 0.503935:   5%|5         | 1/20 [00:01<00:24,  1.27s/it]"
     ]
    },
    {
     "name": "stdout",
     "output_type": "stream",
     "text": [
      "Early stopping, best iteration is:\n",
      "[48]\tvalid_0's binary_logloss: 0.412589\tvalid_1's binary_logloss: 0.503935\n",
      "[LightGBM] [Info] Number of positive: 5073, number of negative: 18322\n",
      "[LightGBM] [Warning] Auto-choosing col-wise multi-threading, the overhead of testing was 0.020858 seconds.\n",
      "You can set `force_col_wise=true` to remove the overhead.\n",
      "[LightGBM] [Info] Total Bins 29799\n",
      "[LightGBM] [Info] Number of data points in the train set: 23395, number of used features: 190\n",
      "[LightGBM] [Info] [binary:BoostFromScore]: pavg=0.216841 -> initscore=-1.284170\n",
      "[LightGBM] [Info] Start training from score -1.284170\n",
      "Training until validation scores don't improve for 10 rounds\n"
     ]
    },
    {
     "name": "stderr",
     "output_type": "stream",
     "text": [
      "regularization_factors, val_score: 0.503935:  10%|#         | 2/20 [00:02<00:27,  1.52s/it]\u001b[32m[I 2022-06-15 19:52:01,630]\u001b[0m Trial 44 finished with value: 0.5068103524327556 and parameters: {'lambda_l1': 6.616957066014342e-05, 'lambda_l2': 0.400853048601546}. Best is trial 43 with value: 0.5039354499064054.\u001b[0m\n",
      "regularization_factors, val_score: 0.503935:  10%|#         | 2/20 [00:02<00:27,  1.52s/it]"
     ]
    },
    {
     "name": "stdout",
     "output_type": "stream",
     "text": [
      "Early stopping, best iteration is:\n",
      "[38]\tvalid_0's binary_logloss: 0.426226\tvalid_1's binary_logloss: 0.50681\n",
      "[LightGBM] [Info] Number of positive: 5073, number of negative: 18322\n",
      "[LightGBM] [Warning] Auto-choosing col-wise multi-threading, the overhead of testing was 0.016903 seconds.\n",
      "You can set `force_col_wise=true` to remove the overhead.\n",
      "[LightGBM] [Info] Total Bins 29799\n",
      "[LightGBM] [Info] Number of data points in the train set: 23395, number of used features: 190\n",
      "[LightGBM] [Info] [binary:BoostFromScore]: pavg=0.216841 -> initscore=-1.284170\n",
      "[LightGBM] [Info] Start training from score -1.284170\n",
      "Training until validation scores don't improve for 10 rounds\n"
     ]
    },
    {
     "name": "stderr",
     "output_type": "stream",
     "text": [
      "regularization_factors, val_score: 0.503935:  15%|#5        | 3/20 [00:04<00:25,  1.47s/it]\u001b[32m[I 2022-06-15 19:52:03,041]\u001b[0m Trial 45 finished with value: 0.503954030077979 and parameters: {'lambda_l1': 1.1027313099672533e-08, 'lambda_l2': 1.242001404761155e-07}. Best is trial 43 with value: 0.5039354499064054.\u001b[0m\n",
      "regularization_factors, val_score: 0.503935:  15%|#5        | 3/20 [00:04<00:25,  1.47s/it]"
     ]
    },
    {
     "name": "stdout",
     "output_type": "stream",
     "text": [
      "Early stopping, best iteration is:\n",
      "[48]\tvalid_0's binary_logloss: 0.412586\tvalid_1's binary_logloss: 0.503954\n",
      "[LightGBM] [Info] Number of positive: 5073, number of negative: 18322\n",
      "[LightGBM] [Warning] Auto-choosing row-wise multi-threading, the overhead of testing was 0.006362 seconds.\n",
      "You can set `force_row_wise=true` to remove the overhead.\n",
      "And if memory is not enough, you can set `force_col_wise=true`.\n",
      "[LightGBM] [Info] Total Bins 29799\n",
      "[LightGBM] [Info] Number of data points in the train set: 23395, number of used features: 190\n",
      "[LightGBM] [Info] [binary:BoostFromScore]: pavg=0.216841 -> initscore=-1.284170\n",
      "[LightGBM] [Info] Start training from score -1.284170\n",
      "Training until validation scores don't improve for 10 rounds\n"
     ]
    },
    {
     "name": "stderr",
     "output_type": "stream",
     "text": [
      "regularization_factors, val_score: 0.503935:  20%|##        | 4/20 [00:05<00:22,  1.39s/it]\u001b[32m[I 2022-06-15 19:52:04,317]\u001b[0m Trial 46 finished with value: 0.5049948028906647 and parameters: {'lambda_l1': 0.010882827930218712, 'lambda_l2': 0.2708162972907513}. Best is trial 43 with value: 0.5039354499064054.\u001b[0m\n",
      "regularization_factors, val_score: 0.503935:  20%|##        | 4/20 [00:05<00:22,  1.39s/it]"
     ]
    },
    {
     "name": "stdout",
     "output_type": "stream",
     "text": [
      "Early stopping, best iteration is:\n",
      "[50]\tvalid_0's binary_logloss: 0.413652\tvalid_1's binary_logloss: 0.504995\n",
      "[LightGBM] [Info] Number of positive: 5073, number of negative: 18322\n",
      "[LightGBM] [Warning] Auto-choosing row-wise multi-threading, the overhead of testing was 0.005315 seconds.\n",
      "You can set `force_row_wise=true` to remove the overhead.\n",
      "And if memory is not enough, you can set `force_col_wise=true`.\n",
      "[LightGBM] [Info] Total Bins 29799\n",
      "[LightGBM] [Info] Number of data points in the train set: 23395, number of used features: 190\n",
      "[LightGBM] [Info] [binary:BoostFromScore]: pavg=0.216841 -> initscore=-1.284170\n",
      "[LightGBM] [Info] Start training from score -1.284170\n",
      "Training until validation scores don't improve for 10 rounds\n"
     ]
    },
    {
     "name": "stderr",
     "output_type": "stream",
     "text": [
      "regularization_factors, val_score: 0.503935:  25%|##5       | 5/20 [00:06<00:19,  1.27s/it]\u001b[32m[I 2022-06-15 19:52:05,358]\u001b[0m Trial 47 finished with value: 0.5045021944253305 and parameters: {'lambda_l1': 1.6996492507894156e-07, 'lambda_l2': 0.0014991323116035308}. Best is trial 43 with value: 0.5039354499064054.\u001b[0m\n",
      "regularization_factors, val_score: 0.503935:  25%|##5       | 5/20 [00:06<00:19,  1.27s/it]"
     ]
    },
    {
     "name": "stdout",
     "output_type": "stream",
     "text": [
      "Early stopping, best iteration is:\n",
      "[32]\tvalid_0's binary_logloss: 0.43188\tvalid_1's binary_logloss: 0.504502\n",
      "[LightGBM] [Info] Number of positive: 5073, number of negative: 18322\n",
      "[LightGBM] [Warning] Auto-choosing col-wise multi-threading, the overhead of testing was 0.011308 seconds.\n",
      "You can set `force_col_wise=true` to remove the overhead.\n",
      "[LightGBM] [Info] Total Bins 29799\n",
      "[LightGBM] [Info] Number of data points in the train set: 23395, number of used features: 190\n",
      "[LightGBM] [Info] [binary:BoostFromScore]: pavg=0.216841 -> initscore=-1.284170\n",
      "[LightGBM] [Info] Start training from score -1.284170\n",
      "Training until validation scores don't improve for 10 rounds\n"
     ]
    },
    {
     "name": "stderr",
     "output_type": "stream",
     "text": [
      "regularization_factors, val_score: 0.503935:  30%|###       | 6/20 [00:08<00:18,  1.29s/it]\u001b[32m[I 2022-06-15 19:52:06,690]\u001b[0m Trial 48 finished with value: 0.5053855172719187 and parameters: {'lambda_l1': 1.0517138394360073, 'lambda_l2': 7.635176818135586e-07}. Best is trial 43 with value: 0.5039354499064054.\u001b[0m\n",
      "regularization_factors, val_score: 0.503935:  30%|###       | 6/20 [00:08<00:18,  1.29s/it]"
     ]
    },
    {
     "name": "stdout",
     "output_type": "stream",
     "text": [
      "Early stopping, best iteration is:\n",
      "[36]\tvalid_0's binary_logloss: 0.429631\tvalid_1's binary_logloss: 0.505386\n",
      "[LightGBM] [Info] Number of positive: 5073, number of negative: 18322\n",
      "[LightGBM] [Warning] Auto-choosing row-wise multi-threading, the overhead of testing was 0.008229 seconds.\n",
      "You can set `force_row_wise=true` to remove the overhead.\n",
      "And if memory is not enough, you can set `force_col_wise=true`.\n",
      "[LightGBM] [Info] Total Bins 29799\n",
      "[LightGBM] [Info] Number of data points in the train set: 23395, number of used features: 190\n",
      "[LightGBM] [Info] [binary:BoostFromScore]: pavg=0.216841 -> initscore=-1.284170\n",
      "[LightGBM] [Info] Start training from score -1.284170\n",
      "Training until validation scores don't improve for 10 rounds\n"
     ]
    },
    {
     "name": "stderr",
     "output_type": "stream",
     "text": [
      "regularization_factors, val_score: 0.503935:  35%|###5      | 7/20 [00:09<00:16,  1.27s/it]\u001b[32m[I 2022-06-15 19:52:07,928]\u001b[0m Trial 49 finished with value: 0.503938919852179 and parameters: {'lambda_l1': 4.655367559816141e-07, 'lambda_l2': 9.449134137745608e-08}. Best is trial 43 with value: 0.5039354499064054.\u001b[0m\n",
      "regularization_factors, val_score: 0.503935:  35%|###5      | 7/20 [00:09<00:16,  1.27s/it]"
     ]
    },
    {
     "name": "stdout",
     "output_type": "stream",
     "text": [
      "Early stopping, best iteration is:\n",
      "[48]\tvalid_0's binary_logloss: 0.412586\tvalid_1's binary_logloss: 0.503939\n",
      "[LightGBM] [Info] Number of positive: 5073, number of negative: 18322\n",
      "[LightGBM] [Warning] Auto-choosing col-wise multi-threading, the overhead of testing was 0.016609 seconds.\n",
      "You can set `force_col_wise=true` to remove the overhead.\n",
      "[LightGBM] [Info] Total Bins 29799\n",
      "[LightGBM] [Info] Number of data points in the train set: 23395, number of used features: 190\n",
      "[LightGBM] [Info] [binary:BoostFromScore]: pavg=0.216841 -> initscore=-1.284170\n",
      "[LightGBM] [Info] Start training from score -1.284170\n",
      "Training until validation scores don't improve for 10 rounds\n"
     ]
    },
    {
     "name": "stderr",
     "output_type": "stream",
     "text": [
      "regularization_factors, val_score: 0.503935:  40%|####      | 8/20 [00:10<00:14,  1.22s/it]\u001b[32m[I 2022-06-15 19:52:09,041]\u001b[0m Trial 50 finished with value: 0.5059180117404602 and parameters: {'lambda_l1': 9.490245203532942e-07, 'lambda_l2': 6.421168438428032}. Best is trial 43 with value: 0.5039354499064054.\u001b[0m\n",
      "regularization_factors, val_score: 0.503935:  40%|####      | 8/20 [00:10<00:14,  1.22s/it]"
     ]
    },
    {
     "name": "stdout",
     "output_type": "stream",
     "text": [
      "Early stopping, best iteration is:\n",
      "[38]\tvalid_0's binary_logloss: 0.433676\tvalid_1's binary_logloss: 0.505918\n",
      "[LightGBM] [Info] Number of positive: 5073, number of negative: 18322\n",
      "[LightGBM] [Warning] Auto-choosing row-wise multi-threading, the overhead of testing was 0.007770 seconds.\n",
      "You can set `force_row_wise=true` to remove the overhead.\n",
      "And if memory is not enough, you can set `force_col_wise=true`.\n",
      "[LightGBM] [Info] Total Bins 29799\n",
      "[LightGBM] [Info] Number of data points in the train set: 23395, number of used features: 190\n",
      "[LightGBM] [Info] [binary:BoostFromScore]: pavg=0.216841 -> initscore=-1.284170\n",
      "[LightGBM] [Info] Start training from score -1.284170\n",
      "Training until validation scores don't improve for 10 rounds\n"
     ]
    },
    {
     "name": "stderr",
     "output_type": "stream",
     "text": [
      "regularization_factors, val_score: 0.503935:  45%|####5     | 9/20 [00:11<00:14,  1.28s/it]\u001b[32m[I 2022-06-15 19:52:10,452]\u001b[0m Trial 51 finished with value: 0.5040685151738787 and parameters: {'lambda_l1': 0.2019055894080857, 'lambda_l2': 3.5275169933928286e-07}. Best is trial 43 with value: 0.5039354499064054.\u001b[0m\n",
      "regularization_factors, val_score: 0.503935:  45%|####5     | 9/20 [00:11<00:14,  1.28s/it]"
     ]
    },
    {
     "name": "stdout",
     "output_type": "stream",
     "text": [
      "Early stopping, best iteration is:\n",
      "[65]\tvalid_0's binary_logloss: 0.397497\tvalid_1's binary_logloss: 0.504069\n",
      "[LightGBM] [Info] Number of positive: 5073, number of negative: 18322\n",
      "[LightGBM] [Warning] Auto-choosing col-wise multi-threading, the overhead of testing was 0.014535 seconds.\n",
      "You can set `force_col_wise=true` to remove the overhead.\n",
      "[LightGBM] [Info] Total Bins 29799\n",
      "[LightGBM] [Info] Number of data points in the train set: 23395, number of used features: 190\n",
      "[LightGBM] [Info] [binary:BoostFromScore]: pavg=0.216841 -> initscore=-1.284170\n",
      "[LightGBM] [Info] Start training from score -1.284170\n",
      "Training until validation scores don't improve for 10 rounds\n"
     ]
    },
    {
     "name": "stderr",
     "output_type": "stream",
     "text": [
      "regularization_factors, val_score: 0.503935:  50%|#####     | 10/20 [00:12<00:11,  1.19s/it]\u001b[32m[I 2022-06-15 19:52:11,454]\u001b[0m Trial 52 finished with value: 0.5049333497089503 and parameters: {'lambda_l1': 0.22183125618514202, 'lambda_l2': 2.9286247167445133e-06}. Best is trial 43 with value: 0.5039354499064054.\u001b[0m\n",
      "regularization_factors, val_score: 0.503935:  50%|#####     | 10/20 [00:12<00:11,  1.19s/it]"
     ]
    },
    {
     "name": "stdout",
     "output_type": "stream",
     "text": [
      "Early stopping, best iteration is:\n",
      "[37]\tvalid_0's binary_logloss: 0.426815\tvalid_1's binary_logloss: 0.504933\n",
      "[LightGBM] [Info] Number of positive: 5073, number of negative: 18322\n",
      "[LightGBM] [Warning] Auto-choosing row-wise multi-threading, the overhead of testing was 0.006141 seconds.\n",
      "You can set `force_row_wise=true` to remove the overhead.\n",
      "And if memory is not enough, you can set `force_col_wise=true`.\n",
      "[LightGBM] [Info] Total Bins 29799\n",
      "[LightGBM] [Info] Number of data points in the train set: 23395, number of used features: 190\n",
      "[LightGBM] [Info] [binary:BoostFromScore]: pavg=0.216841 -> initscore=-1.284170\n",
      "[LightGBM] [Info] Start training from score -1.284170\n",
      "Training until validation scores don't improve for 10 rounds\n"
     ]
    },
    {
     "name": "stderr",
     "output_type": "stream",
     "text": [
      "regularization_factors, val_score: 0.503935:  55%|#####5    | 11/20 [00:13<00:10,  1.17s/it]\u001b[32m[I 2022-06-15 19:52:12,573]\u001b[0m Trial 53 finished with value: 0.5039387524778657 and parameters: {'lambda_l1': 0.0007693706759900811, 'lambda_l2': 0.00017136975745955625}. Best is trial 43 with value: 0.5039354499064054.\u001b[0m\n",
      "regularization_factors, val_score: 0.503935:  55%|#####5    | 11/20 [00:13<00:10,  1.17s/it]"
     ]
    },
    {
     "name": "stdout",
     "output_type": "stream",
     "text": [
      "Early stopping, best iteration is:\n",
      "[48]\tvalid_0's binary_logloss: 0.41259\tvalid_1's binary_logloss: 0.503939\n",
      "[LightGBM] [Info] Number of positive: 5073, number of negative: 18322\n",
      "[LightGBM] [Warning] Auto-choosing row-wise multi-threading, the overhead of testing was 0.006221 seconds.\n",
      "You can set `force_row_wise=true` to remove the overhead.\n",
      "And if memory is not enough, you can set `force_col_wise=true`.\n",
      "[LightGBM] [Info] Total Bins 29799\n",
      "[LightGBM] [Info] Number of data points in the train set: 23395, number of used features: 190\n",
      "[LightGBM] [Info] [binary:BoostFromScore]: pavg=0.216841 -> initscore=-1.284170\n",
      "[LightGBM] [Info] Start training from score -1.284170\n",
      "Training until validation scores don't improve for 10 rounds\n"
     ]
    },
    {
     "name": "stderr",
     "output_type": "stream",
     "text": [
      "regularization_factors, val_score: 0.503935:  60%|######    | 12/20 [00:15<00:09,  1.17s/it]\u001b[32m[I 2022-06-15 19:52:13,725]\u001b[0m Trial 54 finished with value: 0.5039553720473987 and parameters: {'lambda_l1': 0.0003201156401821595, 'lambda_l2': 0.00010206798630095434}. Best is trial 43 with value: 0.5039354499064054.\u001b[0m\n",
      "regularization_factors, val_score: 0.503935:  60%|######    | 12/20 [00:15<00:09,  1.17s/it]"
     ]
    },
    {
     "name": "stdout",
     "output_type": "stream",
     "text": [
      "Early stopping, best iteration is:\n",
      "[48]\tvalid_0's binary_logloss: 0.412588\tvalid_1's binary_logloss: 0.503955\n",
      "[LightGBM] [Info] Number of positive: 5073, number of negative: 18322\n",
      "[LightGBM] [Warning] Auto-choosing row-wise multi-threading, the overhead of testing was 0.006133 seconds.\n",
      "You can set `force_row_wise=true` to remove the overhead.\n",
      "And if memory is not enough, you can set `force_col_wise=true`.\n",
      "[LightGBM] [Info] Total Bins 29799\n",
      "[LightGBM] [Info] Number of data points in the train set: 23395, number of used features: 190\n",
      "[LightGBM] [Info] [binary:BoostFromScore]: pavg=0.216841 -> initscore=-1.284170\n",
      "[LightGBM] [Info] Start training from score -1.284170\n",
      "Training until validation scores don't improve for 10 rounds\n"
     ]
    },
    {
     "name": "stderr",
     "output_type": "stream",
     "text": [
      "regularization_factors, val_score: 0.503935:  65%|######5   | 13/20 [00:16<00:08,  1.18s/it]\u001b[32m[I 2022-06-15 19:52:14,949]\u001b[0m Trial 55 finished with value: 0.5039387949401622 and parameters: {'lambda_l1': 0.0006234644402858109, 'lambda_l2': 6.537735900180263e-05}. Best is trial 43 with value: 0.5039354499064054.\u001b[0m\n",
      "regularization_factors, val_score: 0.503935:  65%|######5   | 13/20 [00:16<00:08,  1.18s/it]"
     ]
    },
    {
     "name": "stdout",
     "output_type": "stream",
     "text": [
      "Early stopping, best iteration is:\n",
      "[48]\tvalid_0's binary_logloss: 0.412588\tvalid_1's binary_logloss: 0.503939\n",
      "[LightGBM] [Info] Number of positive: 5073, number of negative: 18322\n",
      "[LightGBM] [Warning] Auto-choosing row-wise multi-threading, the overhead of testing was 0.009563 seconds.\n",
      "You can set `force_row_wise=true` to remove the overhead.\n",
      "And if memory is not enough, you can set `force_col_wise=true`.\n",
      "[LightGBM] [Info] Total Bins 29799\n",
      "[LightGBM] [Info] Number of data points in the train set: 23395, number of used features: 190\n",
      "[LightGBM] [Info] [binary:BoostFromScore]: pavg=0.216841 -> initscore=-1.284170\n",
      "[LightGBM] [Info] Start training from score -1.284170\n",
      "Training until validation scores don't improve for 10 rounds\n"
     ]
    },
    {
     "name": "stderr",
     "output_type": "stream",
     "text": [
      "regularization_factors, val_score: 0.503935:  70%|#######   | 14/20 [00:17<00:06,  1.14s/it]\u001b[32m[I 2022-06-15 19:52:15,974]\u001b[0m Trial 56 finished with value: 0.5045161244617588 and parameters: {'lambda_l1': 2.217716097815566e-05, 'lambda_l2': 0.0026421516349410925}. Best is trial 43 with value: 0.5039354499064054.\u001b[0m\n",
      "regularization_factors, val_score: 0.503935:  70%|#######   | 14/20 [00:17<00:06,  1.14s/it]"
     ]
    },
    {
     "name": "stdout",
     "output_type": "stream",
     "text": [
      "Early stopping, best iteration is:\n",
      "[32]\tvalid_0's binary_logloss: 0.431884\tvalid_1's binary_logloss: 0.504516\n",
      "[LightGBM] [Info] Number of positive: 5073, number of negative: 18322\n",
      "[LightGBM] [Warning] Auto-choosing row-wise multi-threading, the overhead of testing was 0.007114 seconds.\n",
      "You can set `force_row_wise=true` to remove the overhead.\n",
      "And if memory is not enough, you can set `force_col_wise=true`.\n",
      "[LightGBM] [Info] Total Bins 29799\n",
      "[LightGBM] [Info] Number of data points in the train set: 23395, number of used features: 190\n",
      "[LightGBM] [Info] [binary:BoostFromScore]: pavg=0.216841 -> initscore=-1.284170\n",
      "[LightGBM] [Info] Start training from score -1.284170\n",
      "Training until validation scores don't improve for 10 rounds\n"
     ]
    },
    {
     "name": "stderr",
     "output_type": "stream",
     "text": [
      "regularization_factors, val_score: 0.503935:  75%|#######5  | 15/20 [00:18<00:05,  1.18s/it]\u001b[32m[I 2022-06-15 19:52:17,241]\u001b[0m Trial 57 finished with value: 0.5046726149131106 and parameters: {'lambda_l1': 0.006791455043414541, 'lambda_l2': 8.408662051960907e-06}. Best is trial 43 with value: 0.5039354499064054.\u001b[0m\n",
      "regularization_factors, val_score: 0.503935:  75%|#######5  | 15/20 [00:18<00:05,  1.18s/it]"
     ]
    },
    {
     "name": "stdout",
     "output_type": "stream",
     "text": [
      "Early stopping, best iteration is:\n",
      "[45]\tvalid_0's binary_logloss: 0.415887\tvalid_1's binary_logloss: 0.504673\n",
      "[LightGBM] [Info] Number of positive: 5073, number of negative: 18322\n",
      "[LightGBM] [Warning] Auto-choosing row-wise multi-threading, the overhead of testing was 0.006849 seconds.\n",
      "You can set `force_row_wise=true` to remove the overhead.\n",
      "And if memory is not enough, you can set `force_col_wise=true`.\n",
      "[LightGBM] [Info] Total Bins 29799\n",
      "[LightGBM] [Info] Number of data points in the train set: 23395, number of used features: 190\n",
      "[LightGBM] [Info] [binary:BoostFromScore]: pavg=0.216841 -> initscore=-1.284170\n",
      "[LightGBM] [Info] Start training from score -1.284170\n",
      "Training until validation scores don't improve for 10 rounds\n"
     ]
    },
    {
     "name": "stderr",
     "output_type": "stream",
     "text": [
      "regularization_factors, val_score: 0.503935:  80%|########  | 16/20 [00:19<00:04,  1.21s/it]\u001b[32m[I 2022-06-15 19:52:18,530]\u001b[0m Trial 58 finished with value: 0.5056445551063417 and parameters: {'lambda_l1': 0.00591423559280367, 'lambda_l2': 1.220872659800592e-08}. Best is trial 43 with value: 0.5039354499064054.\u001b[0m\n",
      "regularization_factors, val_score: 0.503935:  80%|########  | 16/20 [00:19<00:04,  1.21s/it]"
     ]
    },
    {
     "name": "stdout",
     "output_type": "stream",
     "text": [
      "Early stopping, best iteration is:\n",
      "[33]\tvalid_0's binary_logloss: 0.430327\tvalid_1's binary_logloss: 0.505645\n",
      "[LightGBM] [Info] Number of positive: 5073, number of negative: 18322\n",
      "[LightGBM] [Warning] Auto-choosing col-wise multi-threading, the overhead of testing was 0.014735 seconds.\n",
      "You can set `force_col_wise=true` to remove the overhead.\n",
      "[LightGBM] [Info] Total Bins 29799\n",
      "[LightGBM] [Info] Number of data points in the train set: 23395, number of used features: 190\n",
      "[LightGBM] [Info] [binary:BoostFromScore]: pavg=0.216841 -> initscore=-1.284170\n",
      "[LightGBM] [Info] Start training from score -1.284170\n",
      "Training until validation scores don't improve for 10 rounds\n"
     ]
    },
    {
     "name": "stderr",
     "output_type": "stream",
     "text": [
      "regularization_factors, val_score: 0.503935:  85%|########5 | 17/20 [00:20<00:03,  1.16s/it]\u001b[32m[I 2022-06-15 19:52:19,585]\u001b[0m Trial 59 finished with value: 0.5053361527682917 and parameters: {'lambda_l1': 1.772603603582971e-05, 'lambda_l2': 0.00906670275674557}. Best is trial 43 with value: 0.5039354499064054.\u001b[0m\n",
      "regularization_factors, val_score: 0.503935:  85%|########5 | 17/20 [00:20<00:03,  1.16s/it]"
     ]
    },
    {
     "name": "stdout",
     "output_type": "stream",
     "text": [
      "Early stopping, best iteration is:\n",
      "[33]\tvalid_0's binary_logloss: 0.43036\tvalid_1's binary_logloss: 0.505336\n",
      "[LightGBM] [Info] Number of positive: 5073, number of negative: 18322\n",
      "[LightGBM] [Warning] Auto-choosing row-wise multi-threading, the overhead of testing was 0.006517 seconds.\n",
      "You can set `force_row_wise=true` to remove the overhead.\n",
      "And if memory is not enough, you can set `force_col_wise=true`.\n",
      "[LightGBM] [Info] Total Bins 29799\n",
      "[LightGBM] [Info] Number of data points in the train set: 23395, number of used features: 190\n",
      "[LightGBM] [Info] [binary:BoostFromScore]: pavg=0.216841 -> initscore=-1.284170\n",
      "[LightGBM] [Info] Start training from score -1.284170\n",
      "Training until validation scores don't improve for 10 rounds\n"
     ]
    },
    {
     "name": "stderr",
     "output_type": "stream",
     "text": [
      "regularization_factors, val_score: 0.503935:  90%|######### | 18/20 [00:22<00:02,  1.31s/it]\u001b[32m[I 2022-06-15 19:52:21,252]\u001b[0m Trial 60 finished with value: 0.5041953070103508 and parameters: {'lambda_l1': 8.923803146534635, 'lambda_l2': 1.4742611347943759e-05}. Best is trial 43 with value: 0.5039354499064054.\u001b[0m\n",
      "regularization_factors, val_score: 0.503935:  90%|######### | 18/20 [00:22<00:02,  1.31s/it]"
     ]
    },
    {
     "name": "stdout",
     "output_type": "stream",
     "text": [
      "Early stopping, best iteration is:\n",
      "[72]\tvalid_0's binary_logloss: 0.415911\tvalid_1's binary_logloss: 0.504195\n",
      "[LightGBM] [Info] Number of positive: 5073, number of negative: 18322\n",
      "[LightGBM] [Warning] Auto-choosing row-wise multi-threading, the overhead of testing was 0.007980 seconds.\n",
      "You can set `force_row_wise=true` to remove the overhead.\n",
      "And if memory is not enough, you can set `force_col_wise=true`.\n",
      "[LightGBM] [Info] Total Bins 29799\n",
      "[LightGBM] [Info] Number of data points in the train set: 23395, number of used features: 190\n",
      "[LightGBM] [Info] [binary:BoostFromScore]: pavg=0.216841 -> initscore=-1.284170\n",
      "[LightGBM] [Info] Start training from score -1.284170\n",
      "Training until validation scores don't improve for 10 rounds\n"
     ]
    },
    {
     "name": "stderr",
     "output_type": "stream",
     "text": [
      "regularization_factors, val_score: 0.503935:  95%|#########5| 19/20 [00:23<00:01,  1.33s/it]\u001b[32m[I 2022-06-15 19:52:22,625]\u001b[0m Trial 61 finished with value: 0.5040902216665409 and parameters: {'lambda_l1': 0.0013626860617664438, 'lambda_l2': 0.00037278326884425454}. Best is trial 43 with value: 0.5039354499064054.\u001b[0m\n",
      "regularization_factors, val_score: 0.503935:  95%|#########5| 19/20 [00:23<00:01,  1.33s/it]"
     ]
    },
    {
     "name": "stdout",
     "output_type": "stream",
     "text": [
      "Early stopping, best iteration is:\n",
      "[48]\tvalid_0's binary_logloss: 0.412533\tvalid_1's binary_logloss: 0.50409\n",
      "[LightGBM] [Info] Number of positive: 5073, number of negative: 18322\n",
      "[LightGBM] [Warning] Auto-choosing col-wise multi-threading, the overhead of testing was 0.012943 seconds.\n",
      "You can set `force_col_wise=true` to remove the overhead.\n",
      "[LightGBM] [Info] Total Bins 29799\n",
      "[LightGBM] [Info] Number of data points in the train set: 23395, number of used features: 190\n",
      "[LightGBM] [Info] [binary:BoostFromScore]: pavg=0.216841 -> initscore=-1.284170\n",
      "[LightGBM] [Info] Start training from score -1.284170\n",
      "Training until validation scores don't improve for 10 rounds\n"
     ]
    },
    {
     "name": "stderr",
     "output_type": "stream",
     "text": [
      "regularization_factors, val_score: 0.503935: 100%|##########| 20/20 [00:25<00:00,  1.25s/it]\u001b[32m[I 2022-06-15 19:52:23,668]\u001b[0m Trial 62 finished with value: 0.5052513342088895 and parameters: {'lambda_l1': 3.7561426090721335e-06, 'lambda_l2': 0.01796879758736836}. Best is trial 43 with value: 0.5039354499064054.\u001b[0m\n",
      "regularization_factors, val_score: 0.503935: 100%|##########| 20/20 [00:25<00:00,  1.25s/it]\n"
     ]
    },
    {
     "name": "stdout",
     "output_type": "stream",
     "text": [
      "Early stopping, best iteration is:\n",
      "[34]\tvalid_0's binary_logloss: 0.429305\tvalid_1's binary_logloss: 0.505251\n"
     ]
    },
    {
     "name": "stderr",
     "output_type": "stream",
     "text": [
      "min_data_in_leaf, val_score: 0.503935:   0%|          | 0/5 [00:00<?, ?it/s]"
     ]
    },
    {
     "name": "stdout",
     "output_type": "stream",
     "text": [
      "[LightGBM] [Info] Number of positive: 5073, number of negative: 18322\n",
      "[LightGBM] [Warning] Auto-choosing row-wise multi-threading, the overhead of testing was 0.006142 seconds.\n",
      "You can set `force_row_wise=true` to remove the overhead.\n",
      "And if memory is not enough, you can set `force_col_wise=true`.\n",
      "[LightGBM] [Info] Total Bins 29799\n",
      "[LightGBM] [Info] Number of data points in the train set: 23395, number of used features: 190\n",
      "[LightGBM] [Info] [binary:BoostFromScore]: pavg=0.216841 -> initscore=-1.284170\n",
      "[LightGBM] [Info] Start training from score -1.284170\n",
      "Training until validation scores don't improve for 10 rounds\n"
     ]
    },
    {
     "name": "stderr",
     "output_type": "stream",
     "text": [
      "min_data_in_leaf, val_score: 0.503935:  20%|##        | 1/5 [00:00<00:03,  1.04it/s]\u001b[32m[I 2022-06-15 19:52:24,630]\u001b[0m Trial 63 finished with value: 0.504665204907735 and parameters: {'min_child_samples': 100}. Best is trial 63 with value: 0.504665204907735.\u001b[0m\n",
      "min_data_in_leaf, val_score: 0.503935:  20%|##        | 1/5 [00:00<00:03,  1.04it/s]"
     ]
    },
    {
     "name": "stdout",
     "output_type": "stream",
     "text": [
      "Early stopping, best iteration is:\n",
      "[38]\tvalid_0's binary_logloss: 0.42921\tvalid_1's binary_logloss: 0.504665\n",
      "[LightGBM] [Info] Number of positive: 5073, number of negative: 18322\n",
      "[LightGBM] [Warning] Auto-choosing row-wise multi-threading, the overhead of testing was 0.006109 seconds.\n",
      "You can set `force_row_wise=true` to remove the overhead.\n",
      "And if memory is not enough, you can set `force_col_wise=true`.\n",
      "[LightGBM] [Info] Total Bins 29799\n",
      "[LightGBM] [Info] Number of data points in the train set: 23395, number of used features: 190\n",
      "[LightGBM] [Info] [binary:BoostFromScore]: pavg=0.216841 -> initscore=-1.284170\n",
      "[LightGBM] [Info] Start training from score -1.284170\n",
      "Training until validation scores don't improve for 10 rounds\n"
     ]
    },
    {
     "name": "stderr",
     "output_type": "stream",
     "text": [
      "min_data_in_leaf, val_score: 0.503935:  40%|####      | 2/5 [00:02<00:03,  1.04s/it]\u001b[32m[I 2022-06-15 19:52:25,720]\u001b[0m Trial 64 finished with value: 0.5061021125227859 and parameters: {'min_child_samples': 5}. Best is trial 63 with value: 0.504665204907735.\u001b[0m\n",
      "min_data_in_leaf, val_score: 0.503935:  40%|####      | 2/5 [00:02<00:03,  1.04s/it]"
     ]
    },
    {
     "name": "stdout",
     "output_type": "stream",
     "text": [
      "Early stopping, best iteration is:\n",
      "[43]\tvalid_0's binary_logloss: 0.417611\tvalid_1's binary_logloss: 0.506102\n",
      "[LightGBM] [Info] Number of positive: 5073, number of negative: 18322\n",
      "[LightGBM] [Warning] Auto-choosing row-wise multi-threading, the overhead of testing was 0.006783 seconds.\n",
      "You can set `force_row_wise=true` to remove the overhead.\n",
      "And if memory is not enough, you can set `force_col_wise=true`.\n",
      "[LightGBM] [Info] Total Bins 29799\n",
      "[LightGBM] [Info] Number of data points in the train set: 23395, number of used features: 190\n",
      "[LightGBM] [Info] [binary:BoostFromScore]: pavg=0.216841 -> initscore=-1.284170\n",
      "[LightGBM] [Info] Start training from score -1.284170\n",
      "Training until validation scores don't improve for 10 rounds\n"
     ]
    },
    {
     "name": "stderr",
     "output_type": "stream",
     "text": [
      "min_data_in_leaf, val_score: 0.503935:  60%|######    | 3/5 [00:03<00:02,  1.00s/it]\u001b[32m[I 2022-06-15 19:52:26,688]\u001b[0m Trial 65 finished with value: 0.505507074158375 and parameters: {'min_child_samples': 50}. Best is trial 63 with value: 0.504665204907735.\u001b[0m\n",
      "min_data_in_leaf, val_score: 0.503935:  60%|######    | 3/5 [00:03<00:02,  1.00s/it]"
     ]
    },
    {
     "name": "stdout",
     "output_type": "stream",
     "text": [
      "Early stopping, best iteration is:\n",
      "[30]\tvalid_0's binary_logloss: 0.437382\tvalid_1's binary_logloss: 0.505507\n",
      "[LightGBM] [Info] Number of positive: 5073, number of negative: 18322\n",
      "[LightGBM] [Warning] Auto-choosing row-wise multi-threading, the overhead of testing was 0.007882 seconds.\n",
      "You can set `force_row_wise=true` to remove the overhead.\n",
      "And if memory is not enough, you can set `force_col_wise=true`.\n",
      "[LightGBM] [Info] Total Bins 29799\n",
      "[LightGBM] [Info] Number of data points in the train set: 23395, number of used features: 190\n",
      "[LightGBM] [Info] [binary:BoostFromScore]: pavg=0.216841 -> initscore=-1.284170\n",
      "[LightGBM] [Info] Start training from score -1.284170\n",
      "Training until validation scores don't improve for 10 rounds\n"
     ]
    },
    {
     "name": "stderr",
     "output_type": "stream",
     "text": [
      "min_data_in_leaf, val_score: 0.503935:  80%|########  | 4/5 [00:04<00:01,  1.05s/it]\u001b[32m[I 2022-06-15 19:52:27,800]\u001b[0m Trial 66 finished with value: 0.5063114764272435 and parameters: {'min_child_samples': 25}. Best is trial 63 with value: 0.504665204907735.\u001b[0m\n",
      "min_data_in_leaf, val_score: 0.503935:  80%|########  | 4/5 [00:04<00:01,  1.05s/it]"
     ]
    },
    {
     "name": "stdout",
     "output_type": "stream",
     "text": [
      "Early stopping, best iteration is:\n",
      "[43]\tvalid_0's binary_logloss: 0.419106\tvalid_1's binary_logloss: 0.506311\n",
      "[LightGBM] [Info] Number of positive: 5073, number of negative: 18322\n",
      "[LightGBM] [Warning] Auto-choosing row-wise multi-threading, the overhead of testing was 0.007189 seconds.\n",
      "You can set `force_row_wise=true` to remove the overhead.\n",
      "And if memory is not enough, you can set `force_col_wise=true`.\n",
      "[LightGBM] [Info] Total Bins 29799\n",
      "[LightGBM] [Info] Number of data points in the train set: 23395, number of used features: 190\n",
      "[LightGBM] [Info] [binary:BoostFromScore]: pavg=0.216841 -> initscore=-1.284170\n",
      "[LightGBM] [Info] Start training from score -1.284170\n",
      "Training until validation scores don't improve for 10 rounds\n"
     ]
    },
    {
     "name": "stderr",
     "output_type": "stream",
     "text": [
      "min_data_in_leaf, val_score: 0.503935: 100%|##########| 5/5 [00:05<00:00,  1.04s/it]\u001b[32m[I 2022-06-15 19:52:28,825]\u001b[0m Trial 67 finished with value: 0.5058691096991965 and parameters: {'min_child_samples': 10}. Best is trial 63 with value: 0.504665204907735.\u001b[0m\n",
      "min_data_in_leaf, val_score: 0.503935: 100%|##########| 5/5 [00:05<00:00,  1.03s/it]"
     ]
    },
    {
     "name": "stdout",
     "output_type": "stream",
     "text": [
      "Early stopping, best iteration is:\n",
      "[38]\tvalid_0's binary_logloss: 0.423682\tvalid_1's binary_logloss: 0.505869\n",
      "[LightGBM] [Warning] bagging_freq is set=0, subsample_freq=0 will be ignored. Current value: bagging_freq=0\n",
      "[LightGBM] [Warning] lambda_l1 is set=0.0007773998922821829, reg_alpha=0.0 will be ignored. Current value: lambda_l1=0.0007773998922821829\n",
      "[LightGBM] [Warning] feature_fraction is set=0.8999999999999999, colsample_bytree=1.0 will be ignored. Current value: feature_fraction=0.8999999999999999\n",
      "[LightGBM] [Warning] bagging_fraction is set=1.0, subsample=1.0 will be ignored. Current value: bagging_fraction=1.0\n",
      "[LightGBM] [Warning] lambda_l2 is set=3.2012859298995277e-06, reg_lambda=0.0 will be ignored. Current value: lambda_l2=3.2012859298995277e-06\n"
     ]
    },
    {
     "name": "stderr",
     "output_type": "stream",
     "text": [
      "\n"
     ]
    },
    {
     "name": "stdout",
     "output_type": "stream",
     "text": [
      "AUC: 0.848(train), 0.642(test)\n"
     ]
    }
   ],
   "source": [
    "keiba_ai = training.KeibaAIFactory.create(feature_enginnering.featured_data) #モデル作成\n",
    "keiba_ai.train_with_tuning() #パラメータチューニングをして学習"
   ]
  },
  {
   "cell_type": "code",
   "execution_count": 28,
   "metadata": {},
   "outputs": [
    {
     "data": {
      "text/html": [
       "<div>\n",
       "<style scoped>\n",
       "    .dataframe tbody tr th:only-of-type {\n",
       "        vertical-align: middle;\n",
       "    }\n",
       "\n",
       "    .dataframe tbody tr th {\n",
       "        vertical-align: top;\n",
       "    }\n",
       "\n",
       "    .dataframe thead th {\n",
       "        text-align: right;\n",
       "    }\n",
       "</style>\n",
       "<table border=\"1\" class=\"dataframe\">\n",
       "  <thead>\n",
       "    <tr style=\"text-align: right;\">\n",
       "      <th></th>\n",
       "      <th>features</th>\n",
       "      <th>importance</th>\n",
       "    </tr>\n",
       "  </thead>\n",
       "  <tbody>\n",
       "    <tr>\n",
       "      <th>4</th>\n",
       "      <td>jockey_id</td>\n",
       "      <td>171</td>\n",
       "    </tr>\n",
       "    <tr>\n",
       "      <th>6</th>\n",
       "      <td>体重</td>\n",
       "      <td>120</td>\n",
       "    </tr>\n",
       "    <tr>\n",
       "      <th>168</th>\n",
       "      <td>interval</td>\n",
       "      <td>88</td>\n",
       "    </tr>\n",
       "    <tr>\n",
       "      <th>8</th>\n",
       "      <td>n_horses</td>\n",
       "      <td>87</td>\n",
       "    </tr>\n",
       "    <tr>\n",
       "      <th>7</th>\n",
       "      <td>体重変化</td>\n",
       "      <td>58</td>\n",
       "    </tr>\n",
       "    <tr>\n",
       "      <th>3</th>\n",
       "      <td>horse_id</td>\n",
       "      <td>57</td>\n",
       "    </tr>\n",
       "    <tr>\n",
       "      <th>11</th>\n",
       "      <td>賞金_5R</td>\n",
       "      <td>56</td>\n",
       "    </tr>\n",
       "    <tr>\n",
       "      <th>5</th>\n",
       "      <td>年齢</td>\n",
       "      <td>50</td>\n",
       "    </tr>\n",
       "    <tr>\n",
       "      <th>26</th>\n",
       "      <td>着順_race_type_5R</td>\n",
       "      <td>49</td>\n",
       "    </tr>\n",
       "    <tr>\n",
       "      <th>2</th>\n",
       "      <td>斤量</td>\n",
       "      <td>46</td>\n",
       "    </tr>\n",
       "    <tr>\n",
       "      <th>27</th>\n",
       "      <td>賞金_race_type_5R</td>\n",
       "      <td>42</td>\n",
       "    </tr>\n",
       "    <tr>\n",
       "      <th>10</th>\n",
       "      <td>着順_5R</td>\n",
       "      <td>38</td>\n",
       "    </tr>\n",
       "    <tr>\n",
       "      <th>9</th>\n",
       "      <td>course_len</td>\n",
       "      <td>37</td>\n",
       "    </tr>\n",
       "    <tr>\n",
       "      <th>68</th>\n",
       "      <td>着差_開催_9R</td>\n",
       "      <td>36</td>\n",
       "    </tr>\n",
       "    <tr>\n",
       "      <th>20</th>\n",
       "      <td>着差_course_len_5R</td>\n",
       "      <td>35</td>\n",
       "    </tr>\n",
       "    <tr>\n",
       "      <th>12</th>\n",
       "      <td>着差_5R</td>\n",
       "      <td>35</td>\n",
       "    </tr>\n",
       "    <tr>\n",
       "      <th>75</th>\n",
       "      <td>賞金_allR</td>\n",
       "      <td>34</td>\n",
       "    </tr>\n",
       "    <tr>\n",
       "      <th>100</th>\n",
       "      <td>着差_開催_allR</td>\n",
       "      <td>33</td>\n",
       "    </tr>\n",
       "    <tr>\n",
       "      <th>18</th>\n",
       "      <td>着順_course_len_5R</td>\n",
       "      <td>32</td>\n",
       "    </tr>\n",
       "    <tr>\n",
       "      <th>42</th>\n",
       "      <td>着順_9R</td>\n",
       "      <td>31</td>\n",
       "    </tr>\n",
       "  </tbody>\n",
       "</table>\n",
       "</div>"
      ],
      "text/plain": [
       "             features  importance\n",
       "4           jockey_id         171\n",
       "6                  体重         120\n",
       "168          interval          88\n",
       "8            n_horses          87\n",
       "7                体重変化          58\n",
       "3            horse_id          57\n",
       "11              賞金_5R          56\n",
       "5                  年齢          50\n",
       "26    着順_race_type_5R          49\n",
       "2                  斤量          46\n",
       "27    賞金_race_type_5R          42\n",
       "10              着順_5R          38\n",
       "9          course_len          37\n",
       "68           着差_開催_9R          36\n",
       "20   着差_course_len_5R          35\n",
       "12              着差_5R          35\n",
       "75            賞金_allR          34\n",
       "100        着差_開催_allR          33\n",
       "18   着順_course_len_5R          32\n",
       "42              着順_9R          31"
      ]
     },
     "execution_count": 28,
     "metadata": {},
     "output_type": "execute_result"
    }
   ],
   "source": [
    "#特徴量の重要度\n",
    "keiba_ai.feature_importance()"
   ]
  },
  {
   "cell_type": "code",
   "execution_count": 29,
   "metadata": {},
   "outputs": [
    {
     "data": {
      "text/plain": [
       "{'boosting_type': 'gbdt',\n",
       " 'class_weight': None,\n",
       " 'colsample_bytree': 1.0,\n",
       " 'importance_type': 'split',\n",
       " 'learning_rate': 0.1,\n",
       " 'max_depth': -1,\n",
       " 'min_child_samples': 20,\n",
       " 'min_child_weight': 0.001,\n",
       " 'min_split_gain': 0.0,\n",
       " 'n_estimators': 100,\n",
       " 'n_jobs': -1,\n",
       " 'num_leaves': 33,\n",
       " 'objective': 'binary',\n",
       " 'random_state': None,\n",
       " 'reg_alpha': 0.0,\n",
       " 'reg_lambda': 0.0,\n",
       " 'silent': True,\n",
       " 'subsample': 1.0,\n",
       " 'subsample_for_bin': 200000,\n",
       " 'subsample_freq': 0,\n",
       " 'feature_pre_filter': False,\n",
       " 'lambda_l1': 0.0007773998922821829,\n",
       " 'lambda_l2': 3.2012859298995277e-06,\n",
       " 'feature_fraction': 0.8999999999999999,\n",
       " 'bagging_fraction': 1.0,\n",
       " 'bagging_freq': 0}"
      ]
     },
     "execution_count": 29,
     "metadata": {},
     "output_type": "execute_result"
    }
   ],
   "source": [
    "#ハイパーパラメータの確認\n",
    "keiba_ai.get_params()"
   ]
  },
  {
   "cell_type": "code",
   "execution_count": 26,
   "metadata": {},
   "outputs": [
    {
     "name": "stdout",
     "output_type": "stream",
     "text": [
      "AUC: 0.826(train), 0.648(test)\n"
     ]
    }
   ],
   "source": [
    "#チューニングしないで学習\n",
    "#keiba_ai.train_without_tuning()"
   ]
  },
  {
   "cell_type": "code",
   "execution_count": 287,
   "metadata": {},
   "outputs": [],
   "source": [
    "#モデル保存。models/(実行した日付)/(version_name).pickleに、モデルとデータセットが保存される。\n",
    "training.KeibaAIFactory.save(keiba_ai, version_name='testmodel_2021')"
   ]
  },
  {
   "cell_type": "code",
   "execution_count": 87,
   "metadata": {},
   "outputs": [],
   "source": [
    "#モデルロード\n",
    "loaded_ai = training.KeibaAIFactory.load('models/20220602/testmodel_2021.pickle')\n",
    "loaded_ai.set_params(keiba_ai.get_params())"
   ]
  },
  {
   "cell_type": "markdown",
   "metadata": {},
   "source": [
    "# 5. シミュレーション"
   ]
  },
  {
   "cell_type": "code",
   "execution_count": 217,
   "metadata": {},
   "outputs": [],
   "source": [
    "%autoreload"
   ]
  },
  {
   "cell_type": "code",
   "execution_count": 30,
   "metadata": {},
   "outputs": [],
   "source": [
    "#シミュレーターに馬券をセット\n",
    "simulator = simulation.Simulator(return_processor)"
   ]
  },
  {
   "cell_type": "markdown",
   "metadata": {},
   "source": [
    "## 5.1. 単一threshold"
   ]
  },
  {
   "cell_type": "code",
   "execution_count": 31,
   "metadata": {},
   "outputs": [
    {
     "data": {
      "application/vnd.jupyter.widget-view+json": {
       "model_id": "f04a4339187041409c2f291ed3b89610",
       "version_major": 2,
       "version_minor": 0
      },
      "text/plain": [
       "  0%|          | 0/100 [00:00<?, ?it/s]"
      ]
     },
     "metadata": {},
     "output_type": "display_data"
    }
   ],
   "source": [
    "T_RANGE = [0.5, 3.5]\n",
    "N_SAMPLES = 100\n",
    "\n",
    "returns = {}\n",
    "#「馬の勝ちやすさスコア」の閾値を変化させた時の成績を計算\n",
    "for i in tqdm(range(N_SAMPLES)):\n",
    "    #T_RANGEの範囲を、N_SAMPLES等分して、thresholdをfor分で回す\n",
    "    threshold = T_RANGE[1] * i / N_SAMPLES + T_RANGE[0] * (1-(i/N_SAMPLES))\n",
    "    try:\n",
    "        #賭ける馬券を決定\n",
    "        actions = keiba_ai.decide_action(\n",
    "                keiba_ai.datasets.X_test, #テストデータ\n",
    "                policies.StdScorePolicy, #「馬の勝ちやすさ」スコアを決める方針\n",
    "                policies.BetPolicyTansho, #賭け方の方針\n",
    "                threshold=threshold #「馬の勝ちやすさスコア」の閾値\n",
    "                )\n",
    "        returns[threshold] = simulator.calc_returns(actions)\n",
    "    except Exception as e:\n",
    "        print(e)\n",
    "        break\n",
    "returns_df = pd.DataFrame.from_dict(returns, orient='index')\n",
    "returns_df.index.name = 'threshold'"
   ]
  },
  {
   "cell_type": "code",
   "execution_count": 291,
   "metadata": {},
   "outputs": [],
   "source": [
    "#シミュレーション結果も、models/に保存しておくとわかりやすい。\n",
    "returns_df.to_pickle('models/20220602/tansho.pickle')"
   ]
  },
  {
   "cell_type": "code",
   "execution_count": 32,
   "metadata": {},
   "outputs": [
    {
     "data": {
      "image/png": "[encoded data removed]",
      "text/plain": [
       "<Figure size 600x400 with 1 Axes>"
      ]
     },
     "metadata": {
      "needs_background": "light"
     },
     "output_type": "display_data"
    }
   ],
   "source": [
    "#回収率をプロット\n",
    "simulation.plot_single_threshold(returns_df, N_SAMPLES, label='tansho')"
   ]
  },
  {
   "cell_type": "markdown",
   "metadata": {},
   "source": [
    "## 5.2. 複数馬券\n",
    "未実装"
   ]
  },
  {
   "cell_type": "markdown",
   "metadata": {},
   "source": [
    "## 5.3. 複数threshold\n",
    "未実装だが、以下のようなコードになる予定。"
   ]
  },
  {
   "cell_type": "code",
   "execution_count": 274,
   "metadata": {},
   "outputs": [
    {
     "data": {
      "application/vnd.jupyter.widget-view+json": {
       "model_id": "97b4c6588eca430fb740dc4c13defb45",
       "version_major": 2,
       "version_minor": 0
      },
      "text/plain": [
       "  0%|          | 0/10 [00:00<?, ?it/s]"
      ]
     },
     "metadata": {},
     "output_type": "display_data"
    }
   ],
   "source": [
    "T1_RANGE = [2.5, 3.5]\n",
    "MIN_T2 = 1\n",
    "N_SAMPLES = 10\n",
    "\n",
    "returns = {}\n",
    "#「馬の勝ちやすさスコア」の閾値を変化させた時の成績を計算\n",
    "idx = 0\n",
    "for i in tqdm(range(N_SAMPLES)):\n",
    "    #T_RANGEの範囲を、N_SAMPLES等分して、thresholdをfor分で回す\n",
    "    threshold1 = T1_RANGE[1] * i / N_SAMPLES + T1_RANGE[0] * (1-(i/N_SAMPLES))\n",
    "    for j in range(N_SAMPLES):\n",
    "        #MIN_T2からthreshold1までをN_SAMPLES等分\n",
    "        threshold2 = threshold1 * j / N_SAMPLES + MIN_T2 * (1-(j/N_SAMPLES))\n",
    "        try:\n",
    "            #print(threshold1, threshold2)\n",
    "            #賭ける馬券を決定\n",
    "            actions = keiba_ai.decide_action(\n",
    "                    keiba_ai.datasets.X_test, #テストデータ\n",
    "                    policies.StdScorePolicy, #「馬の勝ちやすさ」スコアを決める方針\n",
    "                    policies.BetPolicyTanshoFukusho, #賭け方の方針(未実装)\n",
    "                    threshold1=threshold1, #「馬の勝ちやすさスコア」の閾値\n",
    "                    threshold2=threshold2\n",
    "                    )\n",
    "            returns[idx] = simulator.calc_returns(actions)\n",
    "            idx += 1\n",
    "        except Exception as e:\n",
    "            print(e)\n",
    "            break\n",
    "returns_df = pd.DataFrame.from_dict(returns, orient='index')"
   ]
  },
  {
   "cell_type": "code",
   "execution_count": 273,
   "metadata": {},
   "outputs": [
    {
     "data": {
      "image/png": "[encoded data removed]",
      "text/plain": [
       "<Figure size 600x400 with 1 Axes>"
      ]
     },
     "metadata": {
      "needs_background": "light"
     },
     "output_type": "display_data"
    }
   ],
   "source": [
    "simulation.plot_single_threshold(returns_df.reset_index(), 100, label='tansho_fukusho')"
   ]
  },
  {
   "cell_type": "markdown",
   "metadata": {},
   "source": [
    "# 6. 当日の予想\n",
    "例として2022年1月8日のレースを実際に予想する場合を考える。  \n",
    "https://race.netkeiba.com/top/race_list.html?kaisai_date=20220108"
   ]
  },
  {
   "cell_type": "markdown",
   "metadata": {},
   "source": [
    "## 6.1. 前日準備"
   ]
  },
  {
   "cell_type": "code",
   "execution_count": 36,
   "metadata": {},
   "outputs": [],
   "source": [
    "%autoreload"
   ]
  },
  {
   "cell_type": "code",
   "execution_count": 34,
   "metadata": {},
   "outputs": [
    {
     "name": "stdout",
     "output_type": "stream",
     "text": [
      "getting race_id_list\n"
     ]
    },
    {
     "data": {
      "application/vnd.jupyter.widget-view+json": {
       "model_id": "7f206b92201246819d3279c66a973f6d",
       "version_major": 2,
       "version_minor": 0
      },
      "text/plain": [
       "  0%|          | 0/1 [00:00<?, ?it/s]"
      ]
     },
     "metadata": {},
     "output_type": "display_data"
    },
    {
     "name": "stdout",
     "output_type": "stream",
     "text": [
      "scraping: https://race.netkeiba.com/top/race_list.html?kaisai_date=20220108\n"
     ]
    },
    {
     "data": {
      "text/plain": [
       "24"
      ]
     },
     "execution_count": 34,
     "metadata": {},
     "output_type": "execute_result"
    }
   ],
   "source": [
    "race_id_list = preparing.scrape_race_id_list(['20220108']) #レースidを取得\n",
    "len(race_id_list)"
   ]
  },
  {
   "cell_type": "code",
   "execution_count": 37,
   "metadata": {},
   "outputs": [
    {
     "name": "stdout",
     "output_type": "stream",
     "text": [
      "sraping horse_id_list\n"
     ]
    },
    {
     "data": {
      "application/vnd.jupyter.widget-view+json": {
       "model_id": "b652d677cfea407a9381c88edada4602",
       "version_major": 2,
       "version_minor": 0
      },
      "text/plain": [
       "  0%|          | 0/24 [00:00<?, ?it/s]"
      ]
     },
     "metadata": {},
     "output_type": "display_data"
    },
    {
     "name": "stdout",
     "output_type": "stream",
     "text": [
      "scraping horse_results\n"
     ]
    },
    {
     "data": {
      "application/vnd.jupyter.widget-view+json": {
       "model_id": "64b845a9d7ea4d5c863c03e987c9660a",
       "version_major": 2,
       "version_minor": 0
      },
      "text/plain": [
       "  0%|          | 0/361 [00:00<?, ?it/s]"
      ]
     },
     "metadata": {},
     "output_type": "display_data"
    },
    {
     "name": "stdout",
     "output_type": "stream",
     "text": [
      "preparing raw horse_results table\n"
     ]
    },
    {
     "data": {
      "application/vnd.jupyter.widget-view+json": {
       "model_id": "459f40dc24e04c3db129c69235a9cd69",
       "version_major": 2,
       "version_minor": 0
      },
      "text/plain": [
       "  0%|          | 0/361 [00:00<?, ?it/s]"
      ]
     },
     "metadata": {},
     "output_type": "display_data"
    },
    {
     "name": "stdout",
     "output_type": "stream",
     "text": [
      "scraping peds\n"
     ]
    },
    {
     "data": {
      "application/vnd.jupyter.widget-view+json": {
       "model_id": "0615866b7d7243459eae630b76a14daf",
       "version_major": 2,
       "version_minor": 0
      },
      "text/plain": [
       "  0%|          | 0/361 [00:00<?, ?it/s]"
      ]
     },
     "metadata": {},
     "output_type": "display_data"
    },
    {
     "name": "stdout",
     "output_type": "stream",
     "text": [
      "preparing raw peds table\n"
     ]
    },
    {
     "data": {
      "application/vnd.jupyter.widget-view+json": {
       "model_id": "91348d776aa94a0c95da1dc06fb05f41",
       "version_major": 2,
       "version_minor": 0
      },
      "text/plain": [
       "  0%|          | 0/361 [00:00<?, ?it/s]"
      ]
     },
     "metadata": {},
     "output_type": "display_data"
    }
   ],
   "source": [
    "update_horse = preparing.UpdateHorse()\n",
    "horse_id_list = update_horse.scrape_horse_id_list(race_id_list) #当日出走する馬一覧を取得\n",
    "#馬の過去成績を更新し、data/raw/horse_results_(スクレイピングした日付).pickleに保存する。\n",
    "update_horse.update_horse_results(horse_id_list)\n",
    "#血統データを更新し、data/raw/peds_(スクレイピングした日付).pickleに保存する。\n",
    "update_horse.update_peds(horse_id_list)"
   ]
  },
  {
   "cell_type": "code",
   "execution_count": 38,
   "metadata": {},
   "outputs": [],
   "source": [
    "#出走する馬の過去成績の加工\n",
    "horse_results_processor_shutuba = preprocessing.HorseResultsProcessor([update_horse.horse_results_path])\n",
    "#出走する馬の血統テーブルの加工\n",
    "peds_processor_shutuba = preprocessing.PedsProcessor([update_horse.peds_path])"
   ]
  },
  {
   "cell_type": "code",
   "execution_count": 32,
   "metadata": {},
   "outputs": [],
   "source": [
    "#モデルの準備\n",
    "keiba_ai = training.KeibaAIFactory.load('models/20220602/testmodel_2021.pickle')"
   ]
  },
  {
   "cell_type": "markdown",
   "metadata": {},
   "source": [
    "## 6.2. レース直前データ取得"
   ]
  },
  {
   "cell_type": "code",
   "execution_count": 39,
   "metadata": {},
   "outputs": [],
   "source": [
    "filepath = 'data/tmp/shutuba.pickle' #一時的に出馬表を保存するパスを指定\n",
    "preparing.scrape_shutuba_table(race_id_list[0], '2022/1/8', filepath) #出馬表の取得\n",
    "shutuba_table_processor = preprocessing.ShutubaTableProcessor(filepath) #出馬表の加工"
   ]
  },
  {
   "cell_type": "code",
   "execution_count": 40,
   "metadata": {},
   "outputs": [
    {
     "name": "stdout",
     "output_type": "stream",
     "text": [
      "separating horse results by date\n"
     ]
    },
    {
     "data": {
      "application/vnd.jupyter.widget-view+json": {
       "model_id": "21c431cf5d4f4cfd9b7004181dc88b6d",
       "version_major": 2,
       "version_minor": 0
      },
      "text/plain": [
       "  0%|          | 0/1 [00:00<?, ?it/s]"
      ]
     },
     "metadata": {},
     "output_type": "display_data"
    },
    {
     "name": "stdout",
     "output_type": "stream",
     "text": [
      "merging horse_results\n"
     ]
    },
    {
     "data": {
      "application/vnd.jupyter.widget-view+json": {
       "model_id": "ac6d38eeeb6e45bf867ac0e453086f9f",
       "version_major": 2,
       "version_minor": 0
      },
      "text/plain": [
       "  0%|          | 0/1 [00:00<?, ?it/s]"
      ]
     },
     "metadata": {},
     "output_type": "display_data"
    }
   ],
   "source": [
    "#テーブルのマージ\n",
    "TARGET_COLS = ['着順', '賞金', '着差', 'first_corner', 'final_corner',\n",
    "               'first_to_rank', 'first_to_final','final_to_rank']\n",
    "GROUP_COLS = ['course_len', 'race_type', '開催']\n",
    "\n",
    "shutuba_data_merger = preprocessing.ShutubaDataMerger(\n",
    "    shutuba_table_processor,\n",
    "    horse_results_processor_shutuba,\n",
    "    peds_processor_shutuba,\n",
    "    target_cols=TARGET_COLS,\n",
    "    group_cols=GROUP_COLS\n",
    ")\n",
    "\n",
    "shutuba_data_merger.merge()"
   ]
  },
  {
   "cell_type": "code",
   "execution_count": 41,
   "metadata": {},
   "outputs": [],
   "source": [
    "#特徴量エンジニアリング\n",
    "feature_enginnering_shutuba = preprocessing.FeatureEngineering(shutuba_data_merger)\\\n",
    "    .add_interval()\\\n",
    "        .dumminize_ground_state()\\\n",
    "            .dumminize_race_type()\\\n",
    "                .dumminize_sex()\\\n",
    "                    .dumminize_weather()\\\n",
    "                        .encode_horse_id()\\\n",
    "                            .encode_jockey_id()\\\n",
    "                                .dumminize_kaisai()"
   ]
  },
  {
   "cell_type": "code",
   "execution_count": 42,
   "metadata": {},
   "outputs": [
    {
     "data": {
      "text/html": [
       "<div>\n",
       "<style scoped>\n",
       "    .dataframe tbody tr th:only-of-type {\n",
       "        vertical-align: middle;\n",
       "    }\n",
       "\n",
       "    .dataframe tbody tr th {\n",
       "        vertical-align: top;\n",
       "    }\n",
       "\n",
       "    .dataframe thead th {\n",
       "        text-align: right;\n",
       "    }\n",
       "</style>\n",
       "<table border=\"1\" class=\"dataframe\">\n",
       "  <thead>\n",
       "    <tr style=\"text-align: right;\">\n",
       "      <th></th>\n",
       "      <th>馬番</th>\n",
       "      <th>単勝</th>\n",
       "      <th>score</th>\n",
       "    </tr>\n",
       "  </thead>\n",
       "  <tbody>\n",
       "    <tr>\n",
       "      <th>202206010201</th>\n",
       "      <td>3</td>\n",
       "      <td>4.3</td>\n",
       "      <td>2.274956</td>\n",
       "    </tr>\n",
       "    <tr>\n",
       "      <th>202206010201</th>\n",
       "      <td>5</td>\n",
       "      <td>4.7</td>\n",
       "      <td>1.205645</td>\n",
       "    </tr>\n",
       "    <tr>\n",
       "      <th>202206010201</th>\n",
       "      <td>11</td>\n",
       "      <td>5.4</td>\n",
       "      <td>1.169763</td>\n",
       "    </tr>\n",
       "    <tr>\n",
       "      <th>202206010201</th>\n",
       "      <td>15</td>\n",
       "      <td>4.5</td>\n",
       "      <td>1.068296</td>\n",
       "    </tr>\n",
       "    <tr>\n",
       "      <th>202206010201</th>\n",
       "      <td>16</td>\n",
       "      <td>14.2</td>\n",
       "      <td>0.678975</td>\n",
       "    </tr>\n",
       "    <tr>\n",
       "      <th>202206010201</th>\n",
       "      <td>4</td>\n",
       "      <td>5.7</td>\n",
       "      <td>0.475609</td>\n",
       "    </tr>\n",
       "    <tr>\n",
       "      <th>202206010201</th>\n",
       "      <td>6</td>\n",
       "      <td>16.9</td>\n",
       "      <td>0.375901</td>\n",
       "    </tr>\n",
       "    <tr>\n",
       "      <th>202206010201</th>\n",
       "      <td>9</td>\n",
       "      <td>101.3</td>\n",
       "      <td>-0.562297</td>\n",
       "    </tr>\n",
       "    <tr>\n",
       "      <th>202206010201</th>\n",
       "      <td>7</td>\n",
       "      <td>177.8</td>\n",
       "      <td>-0.684012</td>\n",
       "    </tr>\n",
       "    <tr>\n",
       "      <th>202206010201</th>\n",
       "      <td>13</td>\n",
       "      <td>29.8</td>\n",
       "      <td>-0.708120</td>\n",
       "    </tr>\n",
       "    <tr>\n",
       "      <th>202206010201</th>\n",
       "      <td>1</td>\n",
       "      <td>26.7</td>\n",
       "      <td>-0.713952</td>\n",
       "    </tr>\n",
       "    <tr>\n",
       "      <th>202206010201</th>\n",
       "      <td>8</td>\n",
       "      <td>215.4</td>\n",
       "      <td>-0.848626</td>\n",
       "    </tr>\n",
       "    <tr>\n",
       "      <th>202206010201</th>\n",
       "      <td>10</td>\n",
       "      <td>333.9</td>\n",
       "      <td>-0.857462</td>\n",
       "    </tr>\n",
       "    <tr>\n",
       "      <th>202206010201</th>\n",
       "      <td>12</td>\n",
       "      <td>489.8</td>\n",
       "      <td>-0.860295</td>\n",
       "    </tr>\n",
       "    <tr>\n",
       "      <th>202206010201</th>\n",
       "      <td>2</td>\n",
       "      <td>371.3</td>\n",
       "      <td>-0.925683</td>\n",
       "    </tr>\n",
       "    <tr>\n",
       "      <th>202206010201</th>\n",
       "      <td>14</td>\n",
       "      <td>105.7</td>\n",
       "      <td>-1.088699</td>\n",
       "    </tr>\n",
       "  </tbody>\n",
       "</table>\n",
       "</div>"
      ],
      "text/plain": [
       "              馬番     単勝     score\n",
       "202206010201   3    4.3  2.274956\n",
       "202206010201   5    4.7  1.205645\n",
       "202206010201  11    5.4  1.169763\n",
       "202206010201  15    4.5  1.068296\n",
       "202206010201  16   14.2  0.678975\n",
       "202206010201   4    5.7  0.475609\n",
       "202206010201   6   16.9  0.375901\n",
       "202206010201   9  101.3 -0.562297\n",
       "202206010201   7  177.8 -0.684012\n",
       "202206010201  13   29.8 -0.708120\n",
       "202206010201   1   26.7 -0.713952\n",
       "202206010201   8  215.4 -0.848626\n",
       "202206010201  10  333.9 -0.857462\n",
       "202206010201  12  489.8 -0.860295\n",
       "202206010201   2  371.3 -0.925683\n",
       "202206010201  14  105.7 -1.088699"
      ]
     },
     "execution_count": 42,
     "metadata": {},
     "output_type": "execute_result"
    }
   ],
   "source": [
    "#予測\n",
    "X = feature_enginnering_shutuba.featured_data.drop(['date'], axis=1)\n",
    "keiba_ai.calc_score(X, policies.StdScorePolicy).sort_values('score', ascending=False)"
   ]
  },
  {
   "cell_type": "code",
   "execution_count": null,
   "metadata": {},
   "outputs": [],
   "source": []
  }
 ],
 "metadata": {
  "interpreter": {
   "hash": "d01822c593d7f4bad3785e75425d9cd0d468257df53a4832c45dec1669d37d75"
  },
  "kernelspec": {
   "display_name": "Python 3.8.5 ('base')",
   "language": "python",
   "name": "python3"
  },
  "language_info": {
   "codemirror_mode": {
    "name": "ipython",
    "version": 3
   },
   "file_extension": ".py",
   "mimetype": "text/x-python",
   "name": "python",
   "nbconvert_exporter": "python",
   "pygments_lexer": "ipython3",
   "version": "3.10.7"
  },
  "orig_nbformat": 4
 },
 "nbformat": 4,
 "nbformat_minor": 2
}
